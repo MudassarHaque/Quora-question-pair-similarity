{
 "cells": [
  {
   "cell_type": "code",
   "execution_count": 1,
   "metadata": {
    "ExecuteTime": {
     "end_time": "2019-04-19T07:08:34.433968Z",
     "start_time": "2019-04-19T07:08:28.148737Z"
    },
    "colab": {},
    "colab_type": "code",
    "id": "6VXPfRp-tARR",
    "outputId": "6c27acaf-2c6a-467f-fd7a-68efce98e30b"
   },
   "outputs": [
    {
     "name": "stderr",
     "output_type": "stream",
     "text": [
      "C:\\Users\\Mudassar\\Anaconda3\\lib\\site-packages\\sklearn\\cross_validation.py:41: DeprecationWarning: This module was deprecated in version 0.18 in favor of the model_selection module into which all the refactored classes and functions are moved. Also note that the interface of the new CV iterators are different from that of this module. This module will be removed in 0.20.\n",
      "  \"This module will be removed in 0.20.\", DeprecationWarning)\n",
      "C:\\Users\\Mudassar\\Anaconda3\\lib\\site-packages\\sklearn\\ensemble\\weight_boosting.py:29: DeprecationWarning: numpy.core.umath_tests is an internal NumPy module and should not be imported. It will be removed in a future NumPy release.\n",
      "  from numpy.core.umath_tests import inner1d\n"
     ]
    }
   ],
   "source": [
    "import pandas as pd\n",
    "import matplotlib.pyplot as plt\n",
    "import re\n",
    "import time\n",
    "import warnings\n",
    "import sqlite3\n",
    "from sqlalchemy import create_engine # database connection\n",
    "import csv\n",
    "import os\n",
    "warnings.filterwarnings(\"ignore\")\n",
    "import datetime as dt\n",
    "import numpy as np\n",
    "from nltk.corpus import stopwords\n",
    "from sklearn.decomposition import TruncatedSVD\n",
    "from sklearn.preprocessing import normalize\n",
    "from sklearn.feature_extraction.text import CountVectorizer\n",
    "from sklearn.manifold import TSNE\n",
    "import seaborn as sns\n",
    "from sklearn.neighbors import KNeighborsClassifier\n",
    "from sklearn.metrics import confusion_matrix\n",
    "from sklearn.metrics.classification import accuracy_score, log_loss\n",
    "from sklearn.feature_extraction.text import TfidfVectorizer\n",
    "from collections import Counter\n",
    "from scipy.sparse import hstack\n",
    "from sklearn.multiclass import OneVsRestClassifier\n",
    "from sklearn.svm import SVC\n",
    "from sklearn.cross_validation import StratifiedKFold \n",
    "from collections import Counter, defaultdict\n",
    "from sklearn.calibration import CalibratedClassifierCV\n",
    "from sklearn.naive_bayes import MultinomialNB\n",
    "from sklearn.naive_bayes import GaussianNB\n",
    "from sklearn.model_selection import train_test_split\n",
    "from sklearn.model_selection import GridSearchCV\n",
    "import math\n",
    "from sklearn.metrics import normalized_mutual_info_score\n",
    "from sklearn.ensemble import RandomForestClassifier\n",
    "\n",
    "\n",
    "\n",
    "from sklearn.model_selection import cross_val_score\n",
    "from sklearn.linear_model import SGDClassifier\n",
    "from mlxtend.classifier import StackingClassifier\n",
    "\n",
    "from sklearn import model_selection\n",
    "from sklearn.linear_model import LogisticRegression\n",
    "from sklearn.metrics import precision_recall_curve, auc, roc_curve"
   ]
  },
  {
   "cell_type": "markdown",
   "metadata": {
    "colab_type": "text",
    "id": "ZihvUPvHtARd"
   },
   "source": [
    "<h1>4. Machine Learning Models </h1>"
   ]
  },
  {
   "cell_type": "markdown",
   "metadata": {
    "colab_type": "text",
    "id": "CtN9VBPutARf"
   },
   "source": [
    "<h2> 4.1 Reading data from file and storing into sql table </h2>"
   ]
  },
  {
   "cell_type": "code",
   "execution_count": null,
   "metadata": {
    "ExecuteTime": {
     "end_time": "2019-04-17T22:09:00.240880Z",
     "start_time": "2019-04-17T21:13:40.062Z"
    },
    "colab": {},
    "colab_type": "code",
    "id": "owBQdjY1tARh"
   },
   "outputs": [],
   "source": [
    "#Creating db file from csv\n",
    "if not os.path.isfile('train.db'):\n",
    "    disk_engine = create_engine('sqlite:///train.db')\n",
    "    start = dt.datetime.now()\n",
    "    chunksize = 180000\n",
    "    j = 0\n",
    "    index_start = 1\n",
    "    for df in pd.read_csv('final_features.csv', names=['Unnamed: 0','id','is_duplicate','cwc_min','cwc_max','csc_min','csc_max','ctc_min','ctc_max','last_word_eq','first_word_eq','abs_len_diff','mean_len','token_set_ratio','token_sort_ratio','fuzz_ratio','fuzz_partial_ratio','longest_substr_ratio','freq_qid1','freq_qid2','q1len','q2len','q1_n_words','q2_n_words','word_Common','word_Total','word_share','freq_q1+q2','freq_q1-q2','0_x','1_x','2_x','3_x','4_x','5_x','6_x','7_x','8_x','9_x','10_x','11_x','12_x','13_x','14_x','15_x','16_x','17_x','18_x','19_x','20_x','21_x','22_x','23_x','24_x','25_x','26_x','27_x','28_x','29_x','30_x','31_x','32_x','33_x','34_x','35_x','36_x','37_x','38_x','39_x','40_x','41_x','42_x','43_x','44_x','45_x','46_x','47_x','48_x','49_x','50_x','51_x','52_x','53_x','54_x','55_x','56_x','57_x','58_x','59_x','60_x','61_x','62_x','63_x','64_x','65_x','66_x','67_x','68_x','69_x','70_x','71_x','72_x','73_x','74_x','75_x','76_x','77_x','78_x','79_x','80_x','81_x','82_x','83_x','84_x','85_x','86_x','87_x','88_x','89_x','90_x','91_x','92_x','93_x','94_x','95_x','96_x','97_x','98_x','99_x','100_x','101_x','102_x','103_x','104_x','105_x','106_x','107_x','108_x','109_x','110_x','111_x','112_x','113_x','114_x','115_x','116_x','117_x','118_x','119_x','120_x','121_x','122_x','123_x','124_x','125_x','126_x','127_x','128_x','129_x','130_x','131_x','132_x','133_x','134_x','135_x','136_x','137_x','138_x','139_x','140_x','141_x','142_x','143_x','144_x','145_x','146_x','147_x','148_x','149_x','150_x','151_x','152_x','153_x','154_x','155_x','156_x','157_x','158_x','159_x','160_x','161_x','162_x','163_x','164_x','165_x','166_x','167_x','168_x','169_x','170_x','171_x','172_x','173_x','174_x','175_x','176_x','177_x','178_x','179_x','180_x','181_x','182_x','183_x','184_x','185_x','186_x','187_x','188_x','189_x','190_x','191_x','192_x','193_x','194_x','195_x','196_x','197_x','198_x','199_x','200_x','201_x','202_x','203_x','204_x','205_x','206_x','207_x','208_x','209_x','210_x','211_x','212_x','213_x','214_x','215_x','216_x','217_x','218_x','219_x','220_x','221_x','222_x','223_x','224_x','225_x','226_x','227_x','228_x','229_x','230_x','231_x','232_x','233_x','234_x','235_x','236_x','237_x','238_x','239_x','240_x','241_x','242_x','243_x','244_x','245_x','246_x','247_x','248_x','249_x','250_x','251_x','252_x','253_x','254_x','255_x','256_x','257_x','258_x','259_x','260_x','261_x','262_x','263_x','264_x','265_x','266_x','267_x','268_x','269_x','270_x','271_x','272_x','273_x','274_x','275_x','276_x','277_x','278_x','279_x','280_x','281_x','282_x','283_x','284_x','285_x','286_x','287_x','288_x','289_x','290_x','291_x','292_x','293_x','294_x','295_x','296_x','297_x','298_x','299_x','300_x','301_x','302_x','303_x','304_x','305_x','306_x','307_x','308_x','309_x','310_x','311_x','312_x','313_x','314_x','315_x','316_x','317_x','318_x','319_x','320_x','321_x','322_x','323_x','324_x','325_x','326_x','327_x','328_x','329_x','330_x','331_x','332_x','333_x','334_x','335_x','336_x','337_x','338_x','339_x','340_x','341_x','342_x','343_x','344_x','345_x','346_x','347_x','348_x','349_x','350_x','351_x','352_x','353_x','354_x','355_x','356_x','357_x','358_x','359_x','360_x','361_x','362_x','363_x','364_x','365_x','366_x','367_x','368_x','369_x','370_x','371_x','372_x','373_x','374_x','375_x','376_x','377_x','378_x','379_x','380_x','381_x','382_x','383_x','0_y','1_y','2_y','3_y','4_y','5_y','6_y','7_y','8_y','9_y','10_y','11_y','12_y','13_y','14_y','15_y','16_y','17_y','18_y','19_y','20_y','21_y','22_y','23_y','24_y','25_y','26_y','27_y','28_y','29_y','30_y','31_y','32_y','33_y','34_y','35_y','36_y','37_y','38_y','39_y','40_y','41_y','42_y','43_y','44_y','45_y','46_y','47_y','48_y','49_y','50_y','51_y','52_y','53_y','54_y','55_y','56_y','57_y','58_y','59_y','60_y','61_y','62_y','63_y','64_y','65_y','66_y','67_y','68_y','69_y','70_y','71_y','72_y','73_y','74_y','75_y','76_y','77_y','78_y','79_y','80_y','81_y','82_y','83_y','84_y','85_y','86_y','87_y','88_y','89_y','90_y','91_y','92_y','93_y','94_y','95_y','96_y','97_y','98_y','99_y','100_y','101_y','102_y','103_y','104_y','105_y','106_y','107_y','108_y','109_y','110_y','111_y','112_y','113_y','114_y','115_y','116_y','117_y','118_y','119_y','120_y','121_y','122_y','123_y','124_y','125_y','126_y','127_y','128_y','129_y','130_y','131_y','132_y','133_y','134_y','135_y','136_y','137_y','138_y','139_y','140_y','141_y','142_y','143_y','144_y','145_y','146_y','147_y','148_y','149_y','150_y','151_y','152_y','153_y','154_y','155_y','156_y','157_y','158_y','159_y','160_y','161_y','162_y','163_y','164_y','165_y','166_y','167_y','168_y','169_y','170_y','171_y','172_y','173_y','174_y','175_y','176_y','177_y','178_y','179_y','180_y','181_y','182_y','183_y','184_y','185_y','186_y','187_y','188_y','189_y','190_y','191_y','192_y','193_y','194_y','195_y','196_y','197_y','198_y','199_y','200_y','201_y','202_y','203_y','204_y','205_y','206_y','207_y','208_y','209_y','210_y','211_y','212_y','213_y','214_y','215_y','216_y','217_y','218_y','219_y','220_y','221_y','222_y','223_y','224_y','225_y','226_y','227_y','228_y','229_y','230_y','231_y','232_y','233_y','234_y','235_y','236_y','237_y','238_y','239_y','240_y','241_y','242_y','243_y','244_y','245_y','246_y','247_y','248_y','249_y','250_y','251_y','252_y','253_y','254_y','255_y','256_y','257_y','258_y','259_y','260_y','261_y','262_y','263_y','264_y','265_y','266_y','267_y','268_y','269_y','270_y','271_y','272_y','273_y','274_y','275_y','276_y','277_y','278_y','279_y','280_y','281_y','282_y','283_y','284_y','285_y','286_y','287_y','288_y','289_y','290_y','291_y','292_y','293_y','294_y','295_y','296_y','297_y','298_y','299_y','300_y','301_y','302_y','303_y','304_y','305_y','306_y','307_y','308_y','309_y','310_y','311_y','312_y','313_y','314_y','315_y','316_y','317_y','318_y','319_y','320_y','321_y','322_y','323_y','324_y','325_y','326_y','327_y','328_y','329_y','330_y','331_y','332_y','333_y','334_y','335_y','336_y','337_y','338_y','339_y','340_y','341_y','342_y','343_y','344_y','345_y','346_y','347_y','348_y','349_y','350_y','351_y','352_y','353_y','354_y','355_y','356_y','357_y','358_y','359_y','360_y','361_y','362_y','363_y','364_y','365_y','366_y','367_y','368_y','369_y','370_y','371_y','372_y','373_y','374_y','375_y','376_y','377_y','378_y','379_y','380_y','381_y','382_y','383_y'], chunksize=chunksize, iterator=True, encoding='utf-8', ):\n",
    "        df.index += index_start\n",
    "        j+=1\n",
    "        print('{} rows'.format(j*chunksize))\n",
    "        df.to_sql('data', disk_engine, if_exists='append')\n",
    "        index_start = df.index[-1] + 1"
   ]
  },
  {
   "cell_type": "code",
   "execution_count": null,
   "metadata": {
    "ExecuteTime": {
     "end_time": "2019-04-17T22:09:00.241833Z",
     "start_time": "2019-04-17T21:13:40.067Z"
    },
    "colab": {},
    "colab_type": "code",
    "id": "4hpD3aBktARn"
   },
   "outputs": [],
   "source": [
    "#http://www.sqlitetutorial.net/sqlite-python/create-tables/\n",
    "def create_connection(db_file):\n",
    "    \"\"\" create a database connection to the SQLite database\n",
    "        specified by db_file\n",
    "    :param db_file: database file\n",
    "    :return: Connection object or None\n",
    "    \"\"\"\n",
    "    try:\n",
    "        conn = sqlite3.connect(db_file)\n",
    "        return conn\n",
    "    except Error as e:\n",
    "        print(e)\n",
    " \n",
    "    return None\n",
    "\n",
    "\n",
    "def checkTableExists(dbcon):\n",
    "    cursr = dbcon.cursor()\n",
    "    str = \"select name from sqlite_master where type='table'\"\n",
    "    table_names = cursr.execute(str)\n",
    "    print(\"Tables in the databse:\")\n",
    "    tables =table_names.fetchall() \n",
    "    print(tables[0][0])\n",
    "    return(len(tables))"
   ]
  },
  {
   "cell_type": "code",
   "execution_count": null,
   "metadata": {
    "ExecuteTime": {
     "end_time": "2019-04-17T22:09:00.243828Z",
     "start_time": "2019-04-17T21:13:40.071Z"
    },
    "colab": {},
    "colab_type": "code",
    "id": "nR8ZIUnttARs",
    "outputId": "810fb3fb-7da2-4b78-9e29-9edabbf68cf6"
   },
   "outputs": [],
   "source": [
    "read_db = 'train.db'\n",
    "conn_r = create_connection(read_db)\n",
    "checkTableExists(conn_r)\n",
    "conn_r.close()"
   ]
  },
  {
   "cell_type": "code",
   "execution_count": null,
   "metadata": {
    "ExecuteTime": {
     "end_time": "2019-04-17T22:09:00.244825Z",
     "start_time": "2019-04-17T21:13:40.076Z"
    },
    "colab": {},
    "colab_type": "code",
    "id": "SZq5gaaztARy"
   },
   "outputs": [],
   "source": [
    "# try to sample data according to the computing power you have\n",
    "if os.path.isfile(read_db):\n",
    "    conn_r = create_connection(read_db)\n",
    "    if conn_r is not None:\n",
    "        # for selecting first 1M rows\n",
    "#         data = pd.read_sql_query(\"\"\"SELECT * FROM data LIMIT 100001;\"\"\", conn_r)\n",
    "        \n",
    "        # for selecting random points\n",
    "        data = pd.read_sql_query(\"SELECT * From data ORDER BY RANDOM() LIMIT 100001;\", conn_r)\n",
    "        conn_r.commit()\n",
    "        conn_r.close()"
   ]
  },
  {
   "cell_type": "code",
   "execution_count": null,
   "metadata": {
    "ExecuteTime": {
     "end_time": "2019-04-17T22:09:00.246486Z",
     "start_time": "2019-04-17T21:13:40.081Z"
    }
   },
   "outputs": [],
   "source": [
    "data.head()"
   ]
  },
  {
   "cell_type": "code",
   "execution_count": null,
   "metadata": {
    "ExecuteTime": {
     "end_time": "2019-04-17T22:09:00.247854Z",
     "start_time": "2019-04-17T21:13:40.085Z"
    },
    "colab": {},
    "colab_type": "code",
    "id": "ZkeBKktKtAR3"
   },
   "outputs": [],
   "source": [
    "# remove the first row \n",
    "data.drop(data.index[0], inplace=True)\n",
    "y_true = data['is_duplicate']\n",
    "data.drop(['Unnamed: 0', 'id','index','is_duplicate'], axis=1, inplace=True)"
   ]
  },
  {
   "cell_type": "code",
   "execution_count": null,
   "metadata": {
    "ExecuteTime": {
     "end_time": "2019-04-17T22:09:00.248814Z",
     "start_time": "2019-04-17T21:13:40.094Z"
    },
    "colab": {},
    "colab_type": "code",
    "id": "QKSenpsmtAR9",
    "outputId": "81d890ce-df79-4402-9324-84817dbd5a7d"
   },
   "outputs": [],
   "source": [
    "data.head()"
   ]
  },
  {
   "cell_type": "markdown",
   "metadata": {
    "colab_type": "text",
    "id": "KaWHDzqUtASD"
   },
   "source": [
    "<h2> 4.2 Converting strings to numerics </h2>"
   ]
  },
  {
   "cell_type": "code",
   "execution_count": null,
   "metadata": {
    "ExecuteTime": {
     "end_time": "2019-04-17T22:09:00.249835Z",
     "start_time": "2019-04-17T21:13:40.102Z"
    },
    "colab": {},
    "colab_type": "code",
    "id": "iLV60gkptASD",
    "outputId": "f297e0f4-52d5-4ab4-8a43-f0ff82f63698"
   },
   "outputs": [],
   "source": [
    "# after we read from sql table each entry was read it as a string\n",
    "# we convert all the features into numeric before we apply any model\n",
    "cols = list(data.columns)\n",
    "for i in cols:\n",
    "    data[i] = data[i].apply(pd.to_numeric)\n",
    "    print(i)"
   ]
  },
  {
   "cell_type": "code",
   "execution_count": null,
   "metadata": {
    "ExecuteTime": {
     "end_time": "2019-04-17T22:09:00.251834Z",
     "start_time": "2019-04-17T21:13:40.105Z"
    },
    "colab": {},
    "colab_type": "code",
    "id": "_LpfQwc9tASJ"
   },
   "outputs": [],
   "source": [
    "# https://stackoverflow.com/questions/7368789/convert-all-strings-in-a-list-to-int\n",
    "y_true = list(map(int, y_true.values))"
   ]
  },
  {
   "cell_type": "markdown",
   "metadata": {
    "colab_type": "text",
    "id": "CuMTqWGutASO"
   },
   "source": [
    "<h2> 4.3 Random train test split( 70:30) </h2>"
   ]
  },
  {
   "cell_type": "code",
   "execution_count": null,
   "metadata": {
    "ExecuteTime": {
     "end_time": "2019-04-17T22:09:00.252804Z",
     "start_time": "2019-04-17T21:13:40.109Z"
    },
    "colab": {},
    "colab_type": "code",
    "id": "3Rat2obGtASP"
   },
   "outputs": [],
   "source": [
    "X_train,X_test, y_train, y_test = train_test_split(data, y_true, stratify=y_true, test_size=0.3)"
   ]
  },
  {
   "cell_type": "code",
   "execution_count": null,
   "metadata": {
    "ExecuteTime": {
     "end_time": "2019-04-17T22:09:00.253827Z",
     "start_time": "2019-04-17T21:13:40.112Z"
    },
    "colab": {},
    "colab_type": "code",
    "id": "1Iw9zCHqtASS",
    "outputId": "910b684b-0876-4dd8-e0d9-457846236833"
   },
   "outputs": [],
   "source": [
    "print(\"Number of data points in train data :\",X_train.shape)\n",
    "print(\"Number of data points in test data :\",X_test.shape)"
   ]
  },
  {
   "cell_type": "code",
   "execution_count": null,
   "metadata": {
    "ExecuteTime": {
     "end_time": "2019-04-17T22:09:00.255830Z",
     "start_time": "2019-04-17T21:13:40.116Z"
    },
    "colab": {},
    "colab_type": "code",
    "id": "0oDV15LJtASY",
    "outputId": "70a1e4eb-3f31-4f1e-a53b-ad972978505d"
   },
   "outputs": [],
   "source": [
    "print(\"-\"*10, \"Distribution of output variable in train data\", \"-\"*10)\n",
    "train_distr = Counter(y_train)\n",
    "train_len = len(y_train)\n",
    "print(\"Class 0: \",int(train_distr[0])/train_len,\"Class 1: \", int(train_distr[1])/train_len)\n",
    "print(\"-\"*10, \"Distribution of output variable in test data\", \"-\"*10)\n",
    "test_distr = Counter(y_test)\n",
    "test_len = len(y_test)\n",
    "print(\"Class 0: \",int(test_distr[1])/test_len, \"Class 1: \",int(test_distr[1])/test_len)"
   ]
  },
  {
   "cell_type": "code",
   "execution_count": 2,
   "metadata": {
    "ExecuteTime": {
     "end_time": "2019-04-19T07:08:34.627485Z",
     "start_time": "2019-04-19T07:08:34.594540Z"
    },
    "colab": {},
    "colab_type": "code",
    "id": "XfxcPT6jtASg"
   },
   "outputs": [],
   "source": [
    "# This function plots the confusion matrices given y_i, y_i_hat.\n",
    "def plot_confusion_matrix(test_y, predict_y):\n",
    "    C = confusion_matrix(test_y, predict_y)\n",
    "    # C = 9,9 matrix, each cell (i,j) represents number of points of class i are predicted class j\n",
    "    \n",
    "    A =(((C.T)/(C.sum(axis=1))).T)\n",
    "    #divid each element of the confusion matrix with the sum of elements in that column\n",
    "    \n",
    "    # C = [[1, 2],\n",
    "    #     [3, 4]]\n",
    "    # C.T = [[1, 3],\n",
    "    #        [2, 4]]\n",
    "    # C.sum(axis = 1)  axis=0 corresonds to columns and axis=1 corresponds to rows in two diamensional array\n",
    "    # C.sum(axix =1) = [[3, 7]]\n",
    "    # ((C.T)/(C.sum(axis=1))) = [[1/3, 3/7]\n",
    "    #                           [2/3, 4/7]]\n",
    "\n",
    "    # ((C.T)/(C.sum(axis=1))).T = [[1/3, 2/3]\n",
    "    #                           [3/7, 4/7]]\n",
    "    # sum of row elements = 1\n",
    "    \n",
    "    B =(C/C.sum(axis=0))\n",
    "    #divid each element of the confusion matrix with the sum of elements in that row\n",
    "    # C = [[1, 2],\n",
    "    #     [3, 4]]\n",
    "    # C.sum(axis = 0)  axis=0 corresonds to columns and axis=1 corresponds to rows in two diamensional array\n",
    "    # C.sum(axix =0) = [[4, 6]]\n",
    "    # (C/C.sum(axis=0)) = [[1/4, 2/6],\n",
    "    #                      [3/4, 4/6]] \n",
    "    plt.figure(figsize=(20,4))\n",
    "    \n",
    "    labels = [1,2]\n",
    "    # representing A in heatmap format\n",
    "    cmap=sns.light_palette(\"blue\")\n",
    "    plt.subplot(1, 3, 1)\n",
    "    sns.heatmap(C, annot=True, cmap=cmap, fmt=\".3f\", xticklabels=labels, yticklabels=labels)\n",
    "    plt.xlabel('Predicted Class')\n",
    "    plt.ylabel('Original Class')\n",
    "    plt.title(\"Confusion matrix\")\n",
    "    \n",
    "    plt.subplot(1, 3, 2)\n",
    "    sns.heatmap(B, annot=True, cmap=cmap, fmt=\".3f\", xticklabels=labels, yticklabels=labels)\n",
    "    plt.xlabel('Predicted Class')\n",
    "    plt.ylabel('Original Class')\n",
    "    plt.title(\"Precision matrix\")\n",
    "    \n",
    "    plt.subplot(1, 3, 3)\n",
    "    # representing B in heatmap format\n",
    "    sns.heatmap(A, annot=True, cmap=cmap, fmt=\".3f\", xticklabels=labels, yticklabels=labels)\n",
    "    plt.xlabel('Predicted Class')\n",
    "    plt.ylabel('Original Class')\n",
    "    plt.title(\"Recall matrix\")\n",
    "    \n",
    "    plt.show()"
   ]
  },
  {
   "cell_type": "markdown",
   "metadata": {
    "colab_type": "text",
    "id": "UStQJ5F_tASk"
   },
   "source": [
    "<h2> 4.4 Building a random model (Finding worst-case log-loss) </h2>"
   ]
  },
  {
   "cell_type": "code",
   "execution_count": null,
   "metadata": {
    "ExecuteTime": {
     "end_time": "2019-04-17T22:09:00.258788Z",
     "start_time": "2019-04-17T21:13:40.123Z"
    },
    "colab": {},
    "colab_type": "code",
    "id": "qwMDqcU7tASl",
    "outputId": "c1e90d53-25ec-445b-e33a-299538520e32"
   },
   "outputs": [],
   "source": [
    "# we need to generate 9 numbers and the sum of numbers should be 1\n",
    "# one solution is to genarate 9 numbers and divide each of the numbers by their sum\n",
    "# ref: https://stackoverflow.com/a/18662466/4084039\n",
    "# we create a output array that has exactly same size as the CV data\n",
    "predicted_y = np.zeros((test_len,2))\n",
    "for i in range(test_len):\n",
    "    rand_probs = np.random.rand(1,2)\n",
    "    predicted_y[i] = ((rand_probs/sum(sum(rand_probs)))[0])\n",
    "print(\"Log loss on Test Data using Random Model\",log_loss(y_test, predicted_y, eps=1e-15))\n",
    "\n",
    "predicted_y =np.argmax(predicted_y, axis=1)\n",
    "plot_confusion_matrix(y_test, predicted_y)"
   ]
  },
  {
   "cell_type": "markdown",
   "metadata": {
    "colab_type": "text",
    "id": "YgY29g_qtASq"
   },
   "source": [
    "<h2> 4.4 Logistic Regression with hyperparameter tuning </h2>"
   ]
  },
  {
   "cell_type": "code",
   "execution_count": null,
   "metadata": {
    "ExecuteTime": {
     "end_time": "2019-04-17T22:09:00.260783Z",
     "start_time": "2019-04-17T21:13:40.128Z"
    },
    "colab": {},
    "colab_type": "code",
    "id": "Wb2tOE3GtASr",
    "outputId": "d7e4fc88-7d4e-4313-cda7-462a2409292e"
   },
   "outputs": [],
   "source": [
    "alpha = [10 ** x for x in range(-5, 2)] # hyperparam for SGD classifier.\n",
    "\n",
    "# read more about SGDClassifier() at http://scikit-learn.org/stable/modules/generated/sklearn.linear_model.SGDClassifier.html\n",
    "# ------------------------------\n",
    "# default parameters\n",
    "# SGDClassifier(loss=’hinge’, penalty=’l2’, alpha=0.0001, l1_ratio=0.15, fit_intercept=True, max_iter=None, tol=None, \n",
    "# shuffle=True, verbose=0, epsilon=0.1, n_jobs=1, random_state=None, learning_rate=’optimal’, eta0=0.0, power_t=0.5, \n",
    "# class_weight=None, warm_start=False, average=False, n_iter=None)\n",
    "\n",
    "# some of methods\n",
    "# fit(X, y[, coef_init, intercept_init, …])\tFit linear model with Stochastic Gradient Descent.\n",
    "# predict(X)\tPredict class labels for samples in X.\n",
    "\n",
    "#-------------------------------\n",
    "# video link: \n",
    "#------------------------------\n",
    "\n",
    "\n",
    "log_error_array=[]\n",
    "for i in alpha:\n",
    "    clf = SGDClassifier(alpha=i, penalty='l2', loss='log', random_state=42)\n",
    "    clf.fit(X_train, y_train)\n",
    "    sig_clf = CalibratedClassifierCV(clf, method=\"sigmoid\")\n",
    "    sig_clf.fit(X_train, y_train)\n",
    "    predict_y = sig_clf.predict_proba(X_test)\n",
    "    log_error_array.append(log_loss(y_test, predict_y, labels=clf.classes_, eps=1e-15))\n",
    "    print('For values of alpha = ', i, \"The log loss is:\",log_loss(y_test, predict_y, labels=clf.classes_, eps=1e-15))\n",
    "\n",
    "fig, ax = plt.subplots()\n",
    "ax.plot(alpha, log_error_array,c='g')\n",
    "for i, txt in enumerate(np.round(log_error_array,3)):\n",
    "    ax.annotate((alpha[i],np.round(txt,3)), (alpha[i],log_error_array[i]))\n",
    "plt.grid()\n",
    "plt.title(\"Cross Validation Error for each alpha\")\n",
    "plt.xlabel(\"Alpha i's\")\n",
    "plt.ylabel(\"Error measure\")\n",
    "plt.show()\n",
    "\n",
    "\n",
    "best_alpha = np.argmin(log_error_array)\n",
    "clf = SGDClassifier(alpha=alpha[best_alpha], penalty='l2', loss='log', random_state=42)\n",
    "clf.fit(X_train, y_train)\n",
    "sig_clf = CalibratedClassifierCV(clf, method=\"sigmoid\")\n",
    "sig_clf.fit(X_train, y_train)\n",
    "\n",
    "predict_y = sig_clf.predict_proba(X_train)\n",
    "print('For values of best alpha = ', alpha[best_alpha], \"The train log loss is:\",log_loss(y_train, predict_y, labels=clf.classes_, eps=1e-15))\n",
    "predict_y = sig_clf.predict_proba(X_test)\n",
    "print('For values of best alpha = ', alpha[best_alpha], \"The test log loss is:\",log_loss(y_test, predict_y, labels=clf.classes_, eps=1e-15))\n",
    "predicted_y =np.argmax(predict_y,axis=1)\n",
    "print(\"Total number of data points :\", len(predicted_y))\n",
    "plot_confusion_matrix(y_test, predicted_y)"
   ]
  },
  {
   "cell_type": "markdown",
   "metadata": {
    "colab_type": "text",
    "id": "ouQSEnr3tASy"
   },
   "source": [
    "<h2> 4.5 Linear SVM with hyperparameter tuning </h2>"
   ]
  },
  {
   "cell_type": "code",
   "execution_count": null,
   "metadata": {
    "ExecuteTime": {
     "end_time": "2019-04-17T22:09:00.261780Z",
     "start_time": "2019-04-17T21:13:40.133Z"
    },
    "colab": {},
    "colab_type": "code",
    "id": "AOFfZ5PLtAS0",
    "outputId": "d31eb598-e275-48cb-c49b-98e9eb76d8ba"
   },
   "outputs": [],
   "source": [
    "alpha = [10 ** x for x in range(-5, 2)] # hyperparam for SGD classifier.\n",
    "\n",
    "# read more about SGDClassifier() at http://scikit-learn.org/stable/modules/generated/sklearn.linear_model.SGDClassifier.html\n",
    "# ------------------------------\n",
    "# default parameters\n",
    "# SGDClassifier(loss=’hinge’, penalty=’l2’, alpha=0.0001, l1_ratio=0.15, fit_intercept=True, max_iter=None, tol=None, \n",
    "# shuffle=True, verbose=0, epsilon=0.1, n_jobs=1, random_state=None, learning_rate=’optimal’, eta0=0.0, power_t=0.5, \n",
    "# class_weight=None, warm_start=False, average=False, n_iter=None)\n",
    "\n",
    "# some of methods\n",
    "# fit(X, y[, coef_init, intercept_init, …])\tFit linear model with Stochastic Gradient Descent.\n",
    "# predict(X)\tPredict class labels for samples in X.\n",
    "\n",
    "#-------------------------------\n",
    "# video link: \n",
    "#------------------------------\n",
    "\n",
    "\n",
    "log_error_array=[]\n",
    "for i in alpha:\n",
    "    clf = SGDClassifier(alpha=i, penalty='l1', loss='hinge', random_state=42)\n",
    "    clf.fit(X_train, y_train)\n",
    "    sig_clf = CalibratedClassifierCV(clf, method=\"sigmoid\")\n",
    "    sig_clf.fit(X_train, y_train)\n",
    "    predict_y = sig_clf.predict_proba(X_test)\n",
    "    log_error_array.append(log_loss(y_test, predict_y, labels=clf.classes_, eps=1e-15))\n",
    "    print('For values of alpha = ', i, \"The log loss is:\",log_loss(y_test, predict_y, labels=clf.classes_, eps=1e-15))\n",
    "\n",
    "fig, ax = plt.subplots()\n",
    "ax.plot(alpha, log_error_array,c='g')\n",
    "for i, txt in enumerate(np.round(log_error_array,3)):\n",
    "    ax.annotate((alpha[i],np.round(txt,3)), (alpha[i],log_error_array[i]))\n",
    "plt.grid()\n",
    "plt.title(\"Cross Validation Error for each alpha\")\n",
    "plt.xlabel(\"Alpha i's\")\n",
    "plt.ylabel(\"Error measure\")\n",
    "plt.show()\n",
    "\n",
    "\n",
    "best_alpha = np.argmin(log_error_array)\n",
    "clf = SGDClassifier(alpha=alpha[best_alpha], penalty='l1', loss='hinge', random_state=42)\n",
    "clf.fit(X_train, y_train)\n",
    "sig_clf = CalibratedClassifierCV(clf, method=\"sigmoid\")\n",
    "sig_clf.fit(X_train, y_train)\n",
    "\n",
    "predict_y = sig_clf.predict_proba(X_train)\n",
    "print('For values of best alpha = ', alpha[best_alpha], \"The train log loss is:\",log_loss(y_train, predict_y, labels=clf.classes_, eps=1e-15))\n",
    "predict_y = sig_clf.predict_proba(X_test)\n",
    "print('For values of best alpha = ', alpha[best_alpha], \"The test log loss is:\",log_loss(y_test, predict_y, labels=clf.classes_, eps=1e-15))\n",
    "predicted_y =np.argmax(predict_y,axis=1)\n",
    "print(\"Total number of data points :\", len(predicted_y))\n",
    "plot_confusion_matrix(y_test, predicted_y)"
   ]
  },
  {
   "cell_type": "markdown",
   "metadata": {
    "colab_type": "text",
    "id": "ZhTJgclztAS6"
   },
   "source": [
    "<h2> 4.6 XGBoost </h2>"
   ]
  },
  {
   "cell_type": "code",
   "execution_count": null,
   "metadata": {
    "ExecuteTime": {
     "end_time": "2019-04-17T22:09:00.262778Z",
     "start_time": "2019-04-17T21:13:40.137Z"
    },
    "colab": {},
    "colab_type": "code",
    "id": "9U367-xetAS7",
    "outputId": "167e8588-2ac4-4c6d-ac22-f56a2fce5657"
   },
   "outputs": [],
   "source": [
    "import xgboost as xgb\n",
    "params = {}\n",
    "params['objective'] = 'binary:logistic'\n",
    "params['eval_metric'] = 'logloss'\n",
    "params['eta'] = 0.02\n",
    "params['max_depth'] = 4\n",
    "\n",
    "d_train = xgb.DMatrix(X_train, label=y_train)\n",
    "d_test = xgb.DMatrix(X_test, label=y_test)\n",
    "\n",
    "watchlist = [(d_train, 'train'), (d_test, 'valid')]\n",
    "\n",
    "bst = xgb.train(params, d_train, 400, watchlist, early_stopping_rounds=20, verbose_eval=10)\n",
    "\n",
    "xgdmat = xgb.DMatrix(X_train,y_train)\n",
    "predict_y = bst.predict(d_test)\n",
    "print(\"The test log loss is:\",log_loss(y_test, predict_y, labels=clf.classes_, eps=1e-15))"
   ]
  },
  {
   "cell_type": "code",
   "execution_count": null,
   "metadata": {
    "ExecuteTime": {
     "end_time": "2019-04-17T22:09:00.264773Z",
     "start_time": "2019-04-17T21:13:40.145Z"
    },
    "colab": {},
    "colab_type": "code",
    "id": "6U5b17AatAS_",
    "outputId": "ca83b680-023b-4bc5-f499-8d8d85c2ff5e"
   },
   "outputs": [],
   "source": [
    "predicted_y =np.array(predict_y>0.5,dtype=int)\n",
    "print(\"Total number of data points :\", len(predicted_y))\n",
    "plot_confusion_matrix(y_test, predicted_y)"
   ]
  },
  {
   "cell_type": "markdown",
   "metadata": {
    "colab_type": "text",
    "id": "WmiIgHOJtATF"
   },
   "source": [
    "<h1> 5. Assignments </h1>"
   ]
  },
  {
   "cell_type": "markdown",
   "metadata": {
    "colab_type": "text",
    "id": "CWS6JoB0tATF"
   },
   "source": [
    "1. Try out models (Logistic regression, Linear-SVM) with simple TF-IDF vectors instead of TD_IDF weighted word2Vec.\n",
    "2. Hyperparameter tune XgBoost using RandomSearch to reduce the log-loss.\n"
   ]
  },
  {
   "cell_type": "markdown",
   "metadata": {},
   "source": [
    "## (Logistic regression, Linear-SVM) with simple TF-IDF vectors "
   ]
  },
  {
   "cell_type": "code",
   "execution_count": 3,
   "metadata": {
    "ExecuteTime": {
     "end_time": "2019-04-19T07:08:58.437497Z",
     "start_time": "2019-04-19T07:08:56.515638Z"
    }
   },
   "outputs": [],
   "source": [
    "from sklearn.pipeline import Pipeline\n",
    "from sklearn.preprocessing import StandardScaler\n",
    "from scipy import sparse\n",
    "from sklearn.utils import class_weight\n",
    "import spacy"
   ]
  },
  {
   "cell_type": "markdown",
   "metadata": {},
   "source": [
    "### Retriveing dataset"
   ]
  },
  {
   "cell_type": "code",
   "execution_count": 4,
   "metadata": {
    "ExecuteTime": {
     "end_time": "2019-04-19T07:09:00.750402Z",
     "start_time": "2019-04-19T07:08:58.439491Z"
    }
   },
   "outputs": [
    {
     "data": {
      "text/plain": [
       "Index(['id', 'question1', 'question2', 'is_duplicate', 'cwc_min', 'cwc_max',\n",
       "       'csc_min', 'csc_max', 'ctc_min', 'ctc_max', 'last_word_eq',\n",
       "       'first_word_eq', 'abs_len_diff', 'mean_len', 'token_set_ratio',\n",
       "       'token_sort_ratio', 'fuzz_ratio', 'fuzz_partial_ratio',\n",
       "       'longest_substr_ratio'],\n",
       "      dtype='object')"
      ]
     },
     "execution_count": 4,
     "metadata": {},
     "output_type": "execute_result"
    }
   ],
   "source": [
    "# avoid decoding problems\n",
    "dfnlp = pd.read_csv(\"nlp_features_train.csv\",encoding='latin-1')\n",
    " \n",
    "# encode questions to unicode\n",
    "# https://stackoverflow.com/a/6812069\n",
    "# ----------------- python 2 ---------------------\n",
    "# df['question1'] = df['question1'].apply(lambda x: unicode(str(x),\"utf-8\"))\n",
    "# df['question2'] = df['question2'].apply(lambda x: unicode(str(x),\"utf-8\"))\n",
    "# ----------------- python 3 ---------------------\n",
    "dfnlp['question1'] = dfnlp['question1'].apply(lambda x: str(x))\n",
    "dfnlp['question2'] = dfnlp['question2'].apply(lambda x: str(x))\n",
    "dfnlp = dfnlp.drop(['qid1', 'qid2'], axis=1)\n",
    "dfnlp.columns"
   ]
  },
  {
   "cell_type": "code",
   "execution_count": 5,
   "metadata": {
    "ExecuteTime": {
     "end_time": "2019-04-19T07:09:01.928141Z",
     "start_time": "2019-04-19T07:09:00.751399Z"
    }
   },
   "outputs": [
    {
     "data": {
      "text/plain": [
       "Index(['id', 'freq_qid1', 'freq_qid2', 'q1len', 'q2len', 'q1_n_words',\n",
       "       'q2_n_words', 'word_Common', 'word_Total', 'word_share', 'freq_q1+q2',\n",
       "       'freq_q1-q2'],\n",
       "      dtype='object')"
      ]
     },
     "execution_count": 5,
     "metadata": {},
     "output_type": "execute_result"
    }
   ],
   "source": [
    "if os.path.isfile('df_fe_without_preprocessing_train.csv'):\n",
    "    dfppro = pd.read_csv(\"df_fe_without_preprocessing_train.csv\",encoding='latin-1')\n",
    "dfppro = dfppro.drop(['qid1', 'qid2', 'question1', 'question2', 'is_duplicate'], axis=1)\n",
    "dfppro.columns"
   ]
  },
  {
   "cell_type": "code",
   "execution_count": 6,
   "metadata": {
    "ExecuteTime": {
     "end_time": "2019-04-19T07:09:02.209600Z",
     "start_time": "2019-04-19T07:09:01.929139Z"
    }
   },
   "outputs": [
    {
     "data": {
      "text/html": [
       "<div>\n",
       "<style scoped>\n",
       "    .dataframe tbody tr th:only-of-type {\n",
       "        vertical-align: middle;\n",
       "    }\n",
       "\n",
       "    .dataframe tbody tr th {\n",
       "        vertical-align: top;\n",
       "    }\n",
       "\n",
       "    .dataframe thead th {\n",
       "        text-align: right;\n",
       "    }\n",
       "</style>\n",
       "<table border=\"1\" class=\"dataframe\">\n",
       "  <thead>\n",
       "    <tr style=\"text-align: right;\">\n",
       "      <th></th>\n",
       "      <th>id</th>\n",
       "      <th>question1</th>\n",
       "      <th>question2</th>\n",
       "      <th>is_duplicate</th>\n",
       "      <th>cwc_min</th>\n",
       "      <th>cwc_max</th>\n",
       "      <th>csc_min</th>\n",
       "      <th>csc_max</th>\n",
       "      <th>ctc_min</th>\n",
       "      <th>ctc_max</th>\n",
       "      <th>...</th>\n",
       "      <th>freq_qid2</th>\n",
       "      <th>q1len</th>\n",
       "      <th>q2len</th>\n",
       "      <th>q1_n_words</th>\n",
       "      <th>q2_n_words</th>\n",
       "      <th>word_Common</th>\n",
       "      <th>word_Total</th>\n",
       "      <th>word_share</th>\n",
       "      <th>freq_q1+q2</th>\n",
       "      <th>freq_q1-q2</th>\n",
       "    </tr>\n",
       "  </thead>\n",
       "  <tbody>\n",
       "    <tr>\n",
       "      <th>0</th>\n",
       "      <td>0</td>\n",
       "      <td>what is the step by step guide to invest in sh...</td>\n",
       "      <td>what is the step by step guide to invest in sh...</td>\n",
       "      <td>0</td>\n",
       "      <td>0.999980</td>\n",
       "      <td>0.833319</td>\n",
       "      <td>0.999983</td>\n",
       "      <td>0.999983</td>\n",
       "      <td>0.916659</td>\n",
       "      <td>0.785709</td>\n",
       "      <td>...</td>\n",
       "      <td>1</td>\n",
       "      <td>66</td>\n",
       "      <td>57</td>\n",
       "      <td>14</td>\n",
       "      <td>12</td>\n",
       "      <td>10.0</td>\n",
       "      <td>23.0</td>\n",
       "      <td>0.434783</td>\n",
       "      <td>2</td>\n",
       "      <td>0</td>\n",
       "    </tr>\n",
       "    <tr>\n",
       "      <th>1</th>\n",
       "      <td>1</td>\n",
       "      <td>what is the story of kohinoor  koh i noor  dia...</td>\n",
       "      <td>what would happen if the indian government sto...</td>\n",
       "      <td>0</td>\n",
       "      <td>0.799984</td>\n",
       "      <td>0.399996</td>\n",
       "      <td>0.749981</td>\n",
       "      <td>0.599988</td>\n",
       "      <td>0.699993</td>\n",
       "      <td>0.466664</td>\n",
       "      <td>...</td>\n",
       "      <td>1</td>\n",
       "      <td>51</td>\n",
       "      <td>88</td>\n",
       "      <td>8</td>\n",
       "      <td>13</td>\n",
       "      <td>4.0</td>\n",
       "      <td>20.0</td>\n",
       "      <td>0.200000</td>\n",
       "      <td>5</td>\n",
       "      <td>3</td>\n",
       "    </tr>\n",
       "    <tr>\n",
       "      <th>2</th>\n",
       "      <td>2</td>\n",
       "      <td>how can i increase the speed of my internet co...</td>\n",
       "      <td>how can internet speed be increased by hacking...</td>\n",
       "      <td>0</td>\n",
       "      <td>0.399992</td>\n",
       "      <td>0.333328</td>\n",
       "      <td>0.399992</td>\n",
       "      <td>0.249997</td>\n",
       "      <td>0.399996</td>\n",
       "      <td>0.285712</td>\n",
       "      <td>...</td>\n",
       "      <td>1</td>\n",
       "      <td>73</td>\n",
       "      <td>59</td>\n",
       "      <td>14</td>\n",
       "      <td>10</td>\n",
       "      <td>4.0</td>\n",
       "      <td>24.0</td>\n",
       "      <td>0.166667</td>\n",
       "      <td>2</td>\n",
       "      <td>0</td>\n",
       "    </tr>\n",
       "    <tr>\n",
       "      <th>3</th>\n",
       "      <td>3</td>\n",
       "      <td>why am i mentally very lonely  how can i solve...</td>\n",
       "      <td>find the remainder when  math 23  24   math  i...</td>\n",
       "      <td>0</td>\n",
       "      <td>0.000000</td>\n",
       "      <td>0.000000</td>\n",
       "      <td>0.000000</td>\n",
       "      <td>0.000000</td>\n",
       "      <td>0.000000</td>\n",
       "      <td>0.000000</td>\n",
       "      <td>...</td>\n",
       "      <td>1</td>\n",
       "      <td>50</td>\n",
       "      <td>65</td>\n",
       "      <td>11</td>\n",
       "      <td>9</td>\n",
       "      <td>0.0</td>\n",
       "      <td>19.0</td>\n",
       "      <td>0.000000</td>\n",
       "      <td>2</td>\n",
       "      <td>0</td>\n",
       "    </tr>\n",
       "    <tr>\n",
       "      <th>4</th>\n",
       "      <td>4</td>\n",
       "      <td>which one dissolve in water quikly sugar  salt...</td>\n",
       "      <td>which fish would survive in salt water</td>\n",
       "      <td>0</td>\n",
       "      <td>0.399992</td>\n",
       "      <td>0.199998</td>\n",
       "      <td>0.999950</td>\n",
       "      <td>0.666644</td>\n",
       "      <td>0.571420</td>\n",
       "      <td>0.307690</td>\n",
       "      <td>...</td>\n",
       "      <td>1</td>\n",
       "      <td>76</td>\n",
       "      <td>39</td>\n",
       "      <td>13</td>\n",
       "      <td>7</td>\n",
       "      <td>2.0</td>\n",
       "      <td>20.0</td>\n",
       "      <td>0.100000</td>\n",
       "      <td>4</td>\n",
       "      <td>2</td>\n",
       "    </tr>\n",
       "  </tbody>\n",
       "</table>\n",
       "<p>5 rows × 30 columns</p>\n",
       "</div>"
      ],
      "text/plain": [
       "   id                                          question1  \\\n",
       "0   0  what is the step by step guide to invest in sh...   \n",
       "1   1  what is the story of kohinoor  koh i noor  dia...   \n",
       "2   2  how can i increase the speed of my internet co...   \n",
       "3   3  why am i mentally very lonely  how can i solve...   \n",
       "4   4  which one dissolve in water quikly sugar  salt...   \n",
       "\n",
       "                                           question2  is_duplicate   cwc_min  \\\n",
       "0  what is the step by step guide to invest in sh...             0  0.999980   \n",
       "1  what would happen if the indian government sto...             0  0.799984   \n",
       "2  how can internet speed be increased by hacking...             0  0.399992   \n",
       "3  find the remainder when  math 23  24   math  i...             0  0.000000   \n",
       "4            which fish would survive in salt water              0  0.399992   \n",
       "\n",
       "    cwc_max   csc_min   csc_max   ctc_min   ctc_max     ...      freq_qid2  \\\n",
       "0  0.833319  0.999983  0.999983  0.916659  0.785709     ...              1   \n",
       "1  0.399996  0.749981  0.599988  0.699993  0.466664     ...              1   \n",
       "2  0.333328  0.399992  0.249997  0.399996  0.285712     ...              1   \n",
       "3  0.000000  0.000000  0.000000  0.000000  0.000000     ...              1   \n",
       "4  0.199998  0.999950  0.666644  0.571420  0.307690     ...              1   \n",
       "\n",
       "   q1len  q2len  q1_n_words  q2_n_words  word_Common  word_Total  word_share  \\\n",
       "0     66     57          14          12         10.0        23.0    0.434783   \n",
       "1     51     88           8          13          4.0        20.0    0.200000   \n",
       "2     73     59          14          10          4.0        24.0    0.166667   \n",
       "3     50     65          11           9          0.0        19.0    0.000000   \n",
       "4     76     39          13           7          2.0        20.0    0.100000   \n",
       "\n",
       "   freq_q1+q2  freq_q1-q2  \n",
       "0           2           0  \n",
       "1           5           3  \n",
       "2           2           0  \n",
       "3           2           0  \n",
       "4           4           2  \n",
       "\n",
       "[5 rows x 30 columns]"
      ]
     },
     "execution_count": 6,
     "metadata": {},
     "output_type": "execute_result"
    }
   ],
   "source": [
    "df = dfnlp.merge(dfppro, on='id',how='left')\n",
    "df.head()"
   ]
  },
  {
   "cell_type": "code",
   "execution_count": 7,
   "metadata": {
    "ExecuteTime": {
     "end_time": "2019-04-19T07:09:02.214586Z",
     "start_time": "2019-04-19T07:09:02.210598Z"
    }
   },
   "outputs": [
    {
     "data": {
      "text/plain": [
       "Index(['id', 'question1', 'question2', 'is_duplicate', 'cwc_min', 'cwc_max',\n",
       "       'csc_min', 'csc_max', 'ctc_min', 'ctc_max', 'last_word_eq',\n",
       "       'first_word_eq', 'abs_len_diff', 'mean_len', 'token_set_ratio',\n",
       "       'token_sort_ratio', 'fuzz_ratio', 'fuzz_partial_ratio',\n",
       "       'longest_substr_ratio', 'freq_qid1', 'freq_qid2', 'q1len', 'q2len',\n",
       "       'q1_n_words', 'q2_n_words', 'word_Common', 'word_Total', 'word_share',\n",
       "       'freq_q1+q2', 'freq_q1-q2'],\n",
       "      dtype='object')"
      ]
     },
     "execution_count": 7,
     "metadata": {},
     "output_type": "execute_result"
    }
   ],
   "source": [
    "df.columns"
   ]
  },
  {
   "cell_type": "code",
   "execution_count": 8,
   "metadata": {
    "ExecuteTime": {
     "end_time": "2019-04-19T07:09:02.219620Z",
     "start_time": "2019-04-19T07:09:02.215584Z"
    }
   },
   "outputs": [],
   "source": [
    "# df = df.sample(n=100001, replace=False, random_state=1)"
   ]
  },
  {
   "cell_type": "markdown",
   "metadata": {},
   "source": [
    "### Splitting dataset and transforming in TF-IDF"
   ]
  },
  {
   "cell_type": "code",
   "execution_count": 9,
   "metadata": {
    "ExecuteTime": {
     "end_time": "2019-04-19T07:09:38.004027Z",
     "start_time": "2019-04-19T07:09:02.220572Z"
    }
   },
   "outputs": [],
   "source": [
    "def merge_features(q1, q2, rest_feat):\n",
    "    data_set = sparse.hstack((rest_feat.values, q1, q2))\n",
    "    return data_set\n",
    "\n",
    "y_true = df['is_duplicate']\n",
    "data = df.drop(['is_duplicate','id'], axis=1)\n",
    "\n",
    "# split in train, test and cv\n",
    "X, x_te , Y, y_te = train_test_split(data, y_true, stratify=y_true, test_size=0.3)\n",
    "\n",
    "x_tr, x_cv , y_tr, y_cv = train_test_split(X, Y, stratify=Y, test_size=0.3)\n",
    "\n",
    "#building pipeline for faster process\n",
    "tfidf_pipeline = Pipeline([\n",
    "    #Bow vectorizer\n",
    "    ('vect', TfidfVectorizer()),\n",
    "    #Standardizing the data\n",
    "    ('std', StandardScaler())\n",
    "])\n",
    "#Setting params for vectorizer and scalar transforms\n",
    "tfidf_pipeline.set_params(vect__ngram_range=((1,2)), vect__min_df=10, vect__max_features=5000, std__with_mean=False)\n",
    "\n",
    "#Tfidf transformation of both question pair for every row\n",
    "\n",
    "df_q1 = X['question1']\n",
    "df_q2 = X['question2']\n",
    "feat_X = X.drop(['question1', 'question2'], axis=1)\n",
    "\n",
    "\n",
    "#Training questions\n",
    "df_q1_tr = x_tr['question1']\n",
    "df_q2_tr = x_tr['question2']\n",
    "feat_tr = x_tr.drop(['question1', 'question2'], axis=1)\n",
    "\n",
    "#CV questions\n",
    "df_q1_cv = x_cv['question1']\n",
    "df_q2_cv = x_cv['question2']\n",
    "feat_cv = x_cv.drop(['question1', 'question2'], axis=1)\n",
    "\n",
    "#Testing questions\n",
    "df_q1_te = x_te['question1']\n",
    "df_q2_te = x_te['question2']\n",
    "feat_te = x_te.drop(['question1', 'question2'], axis=1)\n",
    "\n",
    "#only train data to fit the tf-idf\n",
    "questions = list(df_q1_tr) + list(df_q2_tr)\n",
    "\n",
    "#fit\n",
    "tfidf_pipeline.fit(list(questions))\n",
    "\n",
    "q1_feat = tfidf_pipeline.fit_transform(list(df_q1))\n",
    "q2_feat = tfidf_pipeline.fit_transform(list(df_q2))\n",
    "\n",
    "#Transforming train questions\n",
    "q1_feat_tr = tfidf_pipeline.transform(list(df_q1_tr))\n",
    "q2_feat_tr = tfidf_pipeline.transform(list(df_q2_tr))\n",
    "\n",
    "#Transforming CV questions\n",
    "q1_feat_cv = tfidf_pipeline.transform(list(df_q1_cv))\n",
    "q2_feat_cv = tfidf_pipeline.transform(list(df_q2_cv))\n",
    "\n",
    "#Transforming test questions\n",
    "q1_feat_te = tfidf_pipeline.transform(list(df_q1_te))\n",
    "q2_feat_te = tfidf_pipeline.transform(list(df_q2_te))"
   ]
  },
  {
   "cell_type": "code",
   "execution_count": 10,
   "metadata": {
    "ExecuteTime": {
     "end_time": "2019-04-19T07:09:39.847911Z",
     "start_time": "2019-04-19T07:09:38.004840Z"
    }
   },
   "outputs": [
    {
     "name": "stdout",
     "output_type": "stream",
     "text": [
      "Train data set size (198102, 10026)\n",
      "Train data set values\n",
      " 0    124963\n",
      "1     73139\n",
      "Name: is_duplicate, dtype: int64\n",
      "Cross validation data set size (84901, 10026)\n",
      "Cross validation set values\n",
      " 0    53556\n",
      "1    31345\n",
      "Name: is_duplicate, dtype: int64\n",
      "Test data set size (121287, 10026)\n",
      "Test data set values\n",
      " 0    76508\n",
      "1    44779\n",
      "Name: is_duplicate, dtype: int64\n"
     ]
    }
   ],
   "source": [
    "# merging all features together\n",
    "\n",
    "tfidf_X = merge_features(q1_feat, q2_feat, feat_X).tocsr()\n",
    "tfidf_tr = merge_features(q1_feat_tr, q2_feat_tr, feat_tr).tocsr()\n",
    "tfidf_cv = merge_features(q1_feat_cv, q2_feat_cv, feat_cv).tocsr()\n",
    "tfidf_te = merge_features(q1_feat_te, q2_feat_te, feat_te).tocsr()\n",
    "\n",
    "\n",
    "print(\"Train data set size {}\".format(tfidf_tr.shape))\n",
    "print(\"Train data set values\\n\",y_tr.value_counts())\n",
    "print(\"Cross validation data set size {}\".format(tfidf_cv.shape))\n",
    "print(\"Cross validation set values\\n\",y_cv.value_counts())\n",
    "print(\"Test data set size {}\".format(tfidf_te.shape))\n",
    "print(\"Test data set values\\n\",y_te.value_counts())"
   ]
  },
  {
   "cell_type": "markdown",
   "metadata": {},
   "source": [
    "## Logistic Regression with hyperparameter tuning"
   ]
  },
  {
   "cell_type": "code",
   "execution_count": 11,
   "metadata": {
    "ExecuteTime": {
     "end_time": "2019-04-19T07:10:13.530798Z",
     "start_time": "2019-04-19T07:09:39.848907Z"
    }
   },
   "outputs": [
    {
     "name": "stdout",
     "output_type": "stream",
     "text": [
      "For values of alpha =  1e-10 The log loss is: 0.6585278256632966\n",
      "For values of alpha =  1e-09 The log loss is: 0.6585278256632966\n",
      "For values of alpha =  1e-08 The log loss is: 0.6585278256632966\n",
      "For values of alpha =  1e-07 The log loss is: 0.6585278256632966\n",
      "For values of alpha =  1e-06 The log loss is: 0.4083902064247136\n",
      "For values of alpha =  1e-05 The log loss is: 0.406481175758238\n",
      "For values of alpha =  0.0001 The log loss is: 0.41281410353076203\n",
      "For values of alpha =  0.001 The log loss is: 0.41250012067292724\n",
      "For values of alpha =  0.01 The log loss is: 0.4032901221818911\n",
      "For values of alpha =  0.1 The log loss is: 0.3981086518081415\n",
      "For values of alpha =  1 The log loss is: 0.4412394533493948\n",
      "For values of alpha =  10 The log loss is: 0.5300088653300421\n"
     ]
    },
    {
     "data": {
      "image/png": "[encoded data removed]",
      "text/plain": [
       "<Figure size 432x288 with 1 Axes>"
      ]
     },
     "metadata": {},
     "output_type": "display_data"
    },
    {
     "name": "stdout",
     "output_type": "stream",
     "text": [
      "For values of best alpha =  0.1 The train log loss is: 0.37281760467509156\n",
      "For values of best alpha =  0.1 The test log loss is: 0.3981086518081415\n",
      "Total number of data points : 121287\n"
     ]
    },
    {
     "data": {
      "image/png": "[encoded data removed]",
      "text/plain": [
       "<Figure size 1440x288 with 6 Axes>"
      ]
     },
     "metadata": {},
     "output_type": "display_data"
    }
   ],
   "source": [
    "alpha = [10 ** x for x in range(-10, 2)] # hyperparam for SGD classifier.\n",
    "log_error_array=[]\n",
    "for i in alpha:\n",
    "    clf = SGDClassifier(alpha=i, penalty='l2', loss='log', random_state=42)\n",
    "    clf.fit(tfidf_tr, y_tr)\n",
    "    sig_clf = CalibratedClassifierCV(clf, method=\"sigmoid\")\n",
    "    sig_clf.fit(tfidf_tr, y_tr)\n",
    "    predict_y = sig_clf.predict_proba(tfidf_te)\n",
    "    log_error_array.append(log_loss(y_te, predict_y, labels=clf.classes_, eps=1e-15))\n",
    "    print('For values of alpha = ', i, \"The log loss is:\",log_loss(y_te, predict_y, labels=clf.classes_, eps=1e-15))\n",
    "\n",
    "fig, ax = plt.subplots()\n",
    "ax.plot(alpha, log_error_array,c='g')\n",
    "for i, txt in enumerate(np.round(log_error_array,3)):\n",
    "    ax.annotate((alpha[i],np.round(txt,3)), (alpha[i],log_error_array[i]))\n",
    "plt.grid()\n",
    "plt.title(\"Cross Validation Error for each alpha\")\n",
    "plt.xlabel(\"Alpha i's\")\n",
    "plt.ylabel(\"Error measure\")\n",
    "plt.show()\n",
    "\n",
    "\n",
    "best_alpha = np.argmin(log_error_array)\n",
    "clf = SGDClassifier(alpha=alpha[best_alpha], penalty='l2', loss='log', random_state=42)\n",
    "clf.fit(tfidf_tr, y_tr)\n",
    "sig_clf = CalibratedClassifierCV(clf, method=\"sigmoid\")\n",
    "sig_clf.fit(tfidf_tr, y_tr)\n",
    "\n",
    "predict_y = sig_clf.predict_proba(tfidf_tr)\n",
    "print('For values of best alpha = ', alpha[best_alpha], \"The train log loss is:\",log_loss(y_tr, predict_y, labels=clf.classes_, eps=1e-15))\n",
    "predict_y = sig_clf.predict_proba(tfidf_te)\n",
    "print('For values of best alpha = ', alpha[best_alpha], \"The test log loss is:\",log_loss(y_te, predict_y, labels=clf.classes_, eps=1e-15))\n",
    "predicted_y =np.argmax(predict_y,axis=1)\n",
    "print(\"Total number of data points :\", len(predicted_y))\n",
    "plot_confusion_matrix(y_te, predicted_y)"
   ]
  },
  {
   "cell_type": "markdown",
   "metadata": {},
   "source": [
    "## Linear SVM with hyperparameter tuning"
   ]
  },
  {
   "cell_type": "code",
   "execution_count": 12,
   "metadata": {
    "ExecuteTime": {
     "end_time": "2019-04-19T07:10:47.760033Z",
     "start_time": "2019-04-19T07:10:13.531796Z"
    },
    "scrolled": true
   },
   "outputs": [
    {
     "name": "stdout",
     "output_type": "stream",
     "text": [
      "For values of alpha =  1e-10 The log loss is: 0.6585278256632966\n",
      "For values of alpha =  1e-09 The log loss is: 0.6585278256632966\n",
      "For values of alpha =  1e-08 The log loss is: 0.6585278256632966\n",
      "For values of alpha =  1e-07 The log loss is: 0.6585278256632966\n",
      "For values of alpha =  1e-06 The log loss is: 0.4143410412830013\n",
      "For values of alpha =  1e-05 The log loss is: 0.42068763719999247\n",
      "For values of alpha =  0.0001 The log loss is: 0.4357616430791175\n",
      "For values of alpha =  0.001 The log loss is: 0.4740759316095317\n",
      "For values of alpha =  0.01 The log loss is: 0.5474256566712971\n",
      "For values of alpha =  0.1 The log loss is: 0.6201259030002867\n",
      "For values of alpha =  1 The log loss is: 0.6276552959030506\n",
      "For values of alpha =  10 The log loss is: 0.6584595864634962\n"
     ]
    },
    {
     "data": {
      "image/png": "[encoded data removed]",
      "text/plain": [
       "<Figure size 432x288 with 1 Axes>"
      ]
     },
     "metadata": {},
     "output_type": "display_data"
    },
    {
     "name": "stdout",
     "output_type": "stream",
     "text": [
      "For values of best alpha =  1e-06 The train log loss is: 0.37640056959964485\n",
      "For values of best alpha =  1e-06 The test log loss is: 0.4143410412830013\n",
      "Total number of data points : 121287\n"
     ]
    },
    {
     "data": {
      "image/png": "[encoded data removed]",
      "text/plain": [
       "<Figure size 1440x288 with 6 Axes>"
      ]
     },
     "metadata": {},
     "output_type": "display_data"
    }
   ],
   "source": [
    "alpha = [10 ** x for x in range(-10, 2)] # hyperparam for SGD classifier.\n",
    "\n",
    "# read more about SGDClassifier() at http://scikit-learn.org/stable/modules/generated/sklearn.linear_model.SGDClassifier.html\n",
    "# ------------------------------\n",
    "# default parameters\n",
    "# SGDClassifier(loss=’hinge’, penalty=’l2’, alpha=0.0001, l1_ratio=0.15, fit_intercept=True, max_iter=None, tol=None, \n",
    "# shuffle=True, verbose=0, epsilon=0.1, n_jobs=1, random_state=None, learning_rate=’optimal’, eta0=0.0, power_t=0.5, \n",
    "# class_weight=None, warm_start=False, average=False, n_iter=None)\n",
    "\n",
    "# some of methods\n",
    "# fit(X, y[, coef_init, intercept_init, …])\tFit linear model with Stochastic Gradient Descent.\n",
    "# predict(X)\tPredict class labels for samples in X.\n",
    "\n",
    "#-------------------------------\n",
    "# video link: \n",
    "#------------------------------\n",
    "\n",
    "\n",
    "log_error_array=[]\n",
    "for i in alpha:\n",
    "    clf = SGDClassifier(alpha=i, penalty='l1', loss='hinge', random_state=42)\n",
    "    clf.fit(tfidf_tr, y_tr)\n",
    "    sig_clf = CalibratedClassifierCV(clf, method=\"sigmoid\")\n",
    "    sig_clf.fit(tfidf_tr, y_tr)\n",
    "    predict_y = sig_clf.predict_proba(tfidf_te)\n",
    "    log_error_array.append(log_loss(y_te, predict_y, labels=clf.classes_, eps=1e-15))\n",
    "    print('For values of alpha = ', i, \"The log loss is:\",log_loss(y_te, predict_y, labels=clf.classes_, eps=1e-15))\n",
    "\n",
    "fig, ax = plt.subplots()\n",
    "ax.plot(alpha, log_error_array,c='g')\n",
    "for i, txt in enumerate(np.round(log_error_array,3)):\n",
    "    ax.annotate((alpha[i],np.round(txt,3)), (alpha[i],log_error_array[i]))\n",
    "plt.grid()\n",
    "plt.title(\"Cross Validation Error for each alpha\")\n",
    "plt.xlabel(\"Alpha i's\")\n",
    "plt.ylabel(\"Error measure\")\n",
    "plt.show()\n",
    "\n",
    "\n",
    "best_alpha = np.argmin(log_error_array)\n",
    "clf = SGDClassifier(alpha=alpha[best_alpha], penalty='l1', loss='hinge', random_state=42)\n",
    "clf.fit(tfidf_tr, y_tr)\n",
    "sig_clf = CalibratedClassifierCV(clf, method=\"sigmoid\")\n",
    "sig_clf.fit(tfidf_tr, y_tr)\n",
    "\n",
    "predict_y = sig_clf.predict_proba(tfidf_tr)\n",
    "print('For values of best alpha = ', alpha[best_alpha], \"The train log loss is:\",log_loss(y_tr, predict_y, labels=clf.classes_, eps=1e-15))\n",
    "predict_y = sig_clf.predict_proba(tfidf_te)\n",
    "print('For values of best alpha = ', alpha[best_alpha], \"The test log loss is:\",log_loss(y_te, predict_y, labels=clf.classes_, eps=1e-15))\n",
    "predicted_y =np.argmax(predict_y,axis=1)\n",
    "print(\"Total number of data points :\", len(predicted_y))\n",
    "plot_confusion_matrix(y_te, predicted_y)"
   ]
  },
  {
   "cell_type": "markdown",
   "metadata": {},
   "source": [
    "### Words2vec for xgboost"
   ]
  },
  {
   "cell_type": "code",
   "execution_count": 13,
   "metadata": {
    "ExecuteTime": {
     "end_time": "2019-04-19T07:10:47.764022Z",
     "start_time": "2019-04-19T07:10:47.761031Z"
    }
   },
   "outputs": [],
   "source": [
    "# from tqdm import tqdm_notebook as tqdm\n",
    "# word2tfidf = dict(zip(tfidf_pipeline.named_steps['vect'].get_feature_names(), tfidf_pipeline.named_steps['vect'].idf_))\n",
    "# nlp = spacy.load('en_core_web_sm')\n",
    "\n",
    "# def word2vec(questions_list, word2tfidf):\n",
    "#     vecs1 = []\n",
    "#     # nlp(x_tr['question1'][:10].values[0])\n",
    "#     # https://github.com/noamraph/tqdm\n",
    "#     # tqdm is used to print the progress bar\n",
    "#     for qu1 in tqdm(questions_list):\n",
    "#         doc1 = nlp(qu1)\n",
    "#         # 384 is the number of dimensions of vectors \n",
    "#         mean_vec1 = np.zeros([doc1.tensor.shape[0],doc1.tensor.shape[1]])\n",
    "#         for word1 in doc1:\n",
    "#             # word2vec\n",
    "#             vec1 = word1.vector\n",
    "\n",
    "#             # fetch df score\n",
    "#             try:\n",
    "#                 idf = word2tfidf[str(word1)]\n",
    "#             except:\n",
    "#                 idf = 0\n",
    "#             # compute final vec\n",
    "#             mean_vec1 += vec1 * idf\n",
    "#         mean_vec1 = mean_vec1.mean(axis=0)\n",
    "#         vecs1.append(mean_vec1)\n",
    "#     return np.array(vecs1)"
   ]
  },
  {
   "cell_type": "code",
   "execution_count": 14,
   "metadata": {
    "ExecuteTime": {
     "end_time": "2019-04-19T07:10:47.777984Z",
     "start_time": "2019-04-19T07:10:47.765019Z"
    }
   },
   "outputs": [],
   "source": [
    "# #Word 2vec\n",
    "# w2v_tr = word2vec(list(x_tr['question1']), word2tfidf)\n",
    "# w2v_cv = word2vec(list(x_cv['question1']), word2tfidf)\n",
    "# w2v_te = word2vec(list(x_te['question1']), word2tfidf)"
   ]
  },
  {
   "cell_type": "code",
   "execution_count": 15,
   "metadata": {
    "ExecuteTime": {
     "end_time": "2019-04-19T07:10:47.782971Z",
     "start_time": "2019-04-19T07:10:47.778983Z"
    }
   },
   "outputs": [],
   "source": [
    "# print(\"Train w2v size {}\".format(w2v_tr.shape))\n",
    "# print(\"Cross validation w2v size {}\".format(w2v_cv.shape))\n",
    "# print(\"Test w2v size {}\".format(w2v_te.shape))"
   ]
  },
  {
   "cell_type": "code",
   "execution_count": 16,
   "metadata": {
    "ExecuteTime": {
     "end_time": "2019-04-19T07:10:47.788955Z",
     "start_time": "2019-04-19T07:10:47.783968Z"
    }
   },
   "outputs": [],
   "source": [
    "# # merging all features together\n",
    "\n",
    "# w2v_tr = sparse.hstack((feat_tr, w2v_tr)).tocsr()\n",
    "# w2v_cv = sparse.hstack((feat_cv, w2v_cv)).tocsr()\n",
    "# w2v_te = sparse.hstack((feat_te, w2v_te)).tocsr()\n",
    "\n",
    "\n",
    "# print(\"Train data set size {}\".format(w2v_tr.shape))\n",
    "# print(\"Train data set values\\n\",y_tr.value_counts())\n",
    "# print(\"Cross validation data set size {}\".format(w2v_cv.shape))\n",
    "# print(\"Cross validation set values\\n\",y_cv.value_counts())\n",
    "# print(\"Test data set size {}\".format(w2v_te.shape))\n",
    "# print(\"Test data set values\\n\",y_te.value_counts())"
   ]
  },
  {
   "cell_type": "markdown",
   "metadata": {},
   "source": [
    "## XGBoost with hyper paramter tuning"
   ]
  },
  {
   "cell_type": "code",
   "execution_count": 77,
   "metadata": {
    "ExecuteTime": {
     "end_time": "2019-04-19T09:50:57.743872Z",
     "start_time": "2019-04-19T07:45:32.967066Z"
    }
   },
   "outputs": [
    {
     "name": "stdout",
     "output_type": "stream",
     "text": [
      "TRAINING ON DEPTH 2\n",
      "[0]\ttrain-logloss:0.686737\tvalidation-logloss:0.686753\n",
      "Multiple eval metrics have been passed: 'validation-logloss' will be used for early stopping.\n",
      "\n",
      "Will train until validation-logloss hasn't improved in 20 rounds.\n",
      "[200]\ttrain-logloss:0.422509\tvalidation-logloss:0.424123\n",
      "[400]\ttrain-logloss:0.389786\tvalidation-logloss:0.391853\n",
      "[600]\ttrain-logloss:0.377925\tvalidation-logloss:0.380397\n",
      "[699]\ttrain-logloss:0.373619\tvalidation-logloss:0.376334\n",
      "The CV log loss is: 0.3763338486445796\n",
      "TRAINING ON DEPTH 3\n",
      "[0]\ttrain-logloss:0.685681\tvalidation-logloss:0.685693\n",
      "Multiple eval metrics have been passed: 'validation-logloss' will be used for early stopping.\n",
      "\n",
      "Will train until validation-logloss hasn't improved in 20 rounds.\n",
      "[200]\ttrain-logloss:0.388874\tvalidation-logloss:0.391076\n",
      "[400]\ttrain-logloss:0.366303\tvalidation-logloss:0.369563\n",
      "[600]\ttrain-logloss:0.356592\tvalidation-logloss:0.360798\n",
      "[699]\ttrain-logloss:0.352929\tvalidation-logloss:0.357654\n",
      "The CV log loss is: 0.35765415987925187\n",
      "TRAINING ON DEPTH 4\n",
      "[0]\ttrain-logloss:0.684852\tvalidation-logloss:0.684871\n",
      "Multiple eval metrics have been passed: 'validation-logloss' will be used for early stopping.\n",
      "\n",
      "Will train until validation-logloss hasn't improved in 20 rounds.\n",
      "[200]\ttrain-logloss:0.374002\tvalidation-logloss:0.377078\n",
      "[400]\ttrain-logloss:0.352613\tvalidation-logloss:0.357594\n",
      "[600]\ttrain-logloss:0.343158\tvalidation-logloss:0.349873\n",
      "[699]\ttrain-logloss:0.339841\tvalidation-logloss:0.34734\n",
      "The CV log loss is: 0.34733949701197236\n",
      "TRAINING ON DEPTH 5\n",
      "[0]\ttrain-logloss:0.684295\tvalidation-logloss:0.684326\n",
      "Multiple eval metrics have been passed: 'validation-logloss' will be used for early stopping.\n",
      "\n",
      "Will train until validation-logloss hasn't improved in 20 rounds.\n",
      "[200]\ttrain-logloss:0.360985\tvalidation-logloss:0.365627\n",
      "[400]\ttrain-logloss:0.341268\tvalidation-logloss:0.348866\n",
      "[600]\ttrain-logloss:0.332243\tvalidation-logloss:0.342283\n",
      "[699]\ttrain-logloss:0.32855\tvalidation-logloss:0.339727\n",
      "The CV log loss is: 0.3397267272234336\n",
      "TRAINING ON DEPTH 6\n",
      "[0]\ttrain-logloss:0.683827\tvalidation-logloss:0.68389\n",
      "Multiple eval metrics have been passed: 'validation-logloss' will be used for early stopping.\n",
      "\n",
      "Will train until validation-logloss hasn't improved in 20 rounds.\n",
      "[200]\ttrain-logloss:0.349967\tvalidation-logloss:0.357452\n",
      "[400]\ttrain-logloss:0.330582\tvalidation-logloss:0.342232\n",
      "[600]\ttrain-logloss:0.321032\tvalidation-logloss:0.335944\n",
      "[699]\ttrain-logloss:0.317313\tvalidation-logloss:0.333686\n",
      "The CV log loss is: 0.333686330749945\n",
      "TRAINING ON DEPTH 7\n",
      "[0]\ttrain-logloss:0.683377\tvalidation-logloss:0.683472\n",
      "Multiple eval metrics have been passed: 'validation-logloss' will be used for early stopping.\n",
      "\n",
      "Will train until validation-logloss hasn't improved in 20 rounds.\n",
      "[200]\ttrain-logloss:0.339308\tvalidation-logloss:0.350443\n",
      "[400]\ttrain-logloss:0.320276\tvalidation-logloss:0.336546\n",
      "[600]\ttrain-logloss:0.310679\tvalidation-logloss:0.330993\n",
      "[699]\ttrain-logloss:0.306842\tvalidation-logloss:0.328922\n",
      "The CV log loss is: 0.32892166451045746\n",
      "TRAINING ON DEPTH 8\n",
      "[0]\ttrain-logloss:0.683062\tvalidation-logloss:0.6832\n",
      "Multiple eval metrics have been passed: 'validation-logloss' will be used for early stopping.\n",
      "\n",
      "Will train until validation-logloss hasn't improved in 20 rounds.\n",
      "[200]\ttrain-logloss:0.328959\tvalidation-logloss:0.345299\n",
      "[400]\ttrain-logloss:0.309298\tvalidation-logloss:0.332247\n",
      "[600]\ttrain-logloss:0.299304\tvalidation-logloss:0.327036\n",
      "[699]\ttrain-logloss:0.295274\tvalidation-logloss:0.32509\n",
      "The CV log loss is: 0.3250900473381366\n",
      "TRAINING ON DEPTH 9\n",
      "[0]\ttrain-logloss:0.682775\tvalidation-logloss:0.683017\n",
      "Multiple eval metrics have been passed: 'validation-logloss' will be used for early stopping.\n",
      "\n",
      "Will train until validation-logloss hasn't improved in 20 rounds.\n",
      "[200]\ttrain-logloss:0.316815\tvalidation-logloss:0.340169\n",
      "[400]\ttrain-logloss:0.297031\tvalidation-logloss:0.328225\n",
      "[600]\ttrain-logloss:0.287511\tvalidation-logloss:0.323723\n",
      "[699]\ttrain-logloss:0.283452\tvalidation-logloss:0.321952\n",
      "The CV log loss is: 0.3219515503365018\n",
      "TRAINING ON DEPTH 10\n",
      "[0]\ttrain-logloss:0.68252\tvalidation-logloss:0.682872\n",
      "Multiple eval metrics have been passed: 'validation-logloss' will be used for early stopping.\n",
      "\n",
      "Will train until validation-logloss hasn't improved in 20 rounds.\n",
      "[200]\ttrain-logloss:0.304521\tvalidation-logloss:0.336444\n",
      "[400]\ttrain-logloss:0.283815\tvalidation-logloss:0.324897\n",
      "[600]\ttrain-logloss:0.273552\tvalidation-logloss:0.320504\n",
      "[699]\ttrain-logloss:0.269069\tvalidation-logloss:0.318683\n",
      "The CV log loss is: 0.3186829462879714\n",
      "TRAINING ON DEPTH 11\n",
      "[0]\ttrain-logloss:0.682266\tvalidation-logloss:0.682733\n",
      "Multiple eval metrics have been passed: 'validation-logloss' will be used for early stopping.\n",
      "\n",
      "Will train until validation-logloss hasn't improved in 20 rounds.\n",
      "[200]\ttrain-logloss:0.291694\tvalidation-logloss:0.333438\n",
      "[400]\ttrain-logloss:0.271316\tvalidation-logloss:0.32278\n",
      "[600]\ttrain-logloss:0.260786\tvalidation-logloss:0.3184\n",
      "[699]\ttrain-logloss:0.256693\tvalidation-logloss:0.316933\n",
      "The CV log loss is: 0.3169332639511657\n",
      "TRAINING ON DEPTH 12\n",
      "[0]\ttrain-logloss:0.682009\tvalidation-logloss:0.682628\n",
      "Multiple eval metrics have been passed: 'validation-logloss' will be used for early stopping.\n",
      "\n",
      "Will train until validation-logloss hasn't improved in 20 rounds.\n",
      "[200]\ttrain-logloss:0.278155\tvalidation-logloss:0.330873\n",
      "[400]\ttrain-logloss:0.257999\tvalidation-logloss:0.32075\n",
      "[600]\ttrain-logloss:0.247611\tvalidation-logloss:0.316735\n",
      "[699]\ttrain-logloss:0.243564\tvalidation-logloss:0.315398\n",
      "The CV log loss is: 0.315397490835677\n"
     ]
    }
   ],
   "source": [
    "import xgboost as xgb\n",
    "params = {}\n",
    "params['objective'] = 'binary:logistic'\n",
    "params['eval_metric'] = 'logloss'\n",
    "params['eta'] = 0.02\n",
    "max_depth  = [1*x for x in range(2, 10)]\n",
    "loss_cv = []\n",
    "loss_tr = []\n",
    "for t_depth in max_depth:\n",
    "    params['max_depth'] = t_depth\n",
    "    print(\"TRAINING ON DEPTH\",t_depth)\n",
    "    d_tr = xgb.DMatrix(tfidf_tr, label=y_tr)\n",
    "    d_cv = xgb.DMatrix(tfidf_cv, label=y_cv)\n",
    "\n",
    "    watchlist = [(d_tr, 'train'), (d_cv, 'validation')]\n",
    "\n",
    "    bst = xgb.train(params, d_tr, 700, watchlist, early_stopping_rounds=20, verbose_eval=200)\n",
    "\n",
    "#     xgdmat = xgb.DMatrix(w2v_tr,y_tr)\n",
    "    predict_y_tr = bst.predict(d_tr)\n",
    "    predict_y_cv = bst.predict(d_cv)\n",
    "    print(\"The CV log loss is:\",log_loss(y_cv, predict_y_cv, labels=clf.classes_, eps=1e-15))\n",
    "    loss_tr.append(bst.eval_set(watchlist).split()[1].split(':')[1]) \n",
    "    loss_cv.append(bst.eval_set(watchlist).split()[2].split(':')[1])"
   ]
  },
  {
   "cell_type": "code",
   "execution_count": 91,
   "metadata": {
    "ExecuteTime": {
     "end_time": "2019-04-19T10:34:39.330405Z",
     "start_time": "2019-04-19T10:34:39.239614Z"
    }
   },
   "outputs": [
    {
     "data": {
      "image/png": "[encoded data removed]",
      "text/plain": [
       "<Figure size 576x432 with 1 Axes>"
      ]
     },
     "metadata": {},
     "output_type": "display_data"
    }
   ],
   "source": [
    "plt.close\n",
    "sns.set_style(\"darkgrid\")\n",
    "plt.figure(figsize=(8,6))\n",
    "plt.plot(max_depth,loss_tr,'r--',label='Train Loss')\n",
    "plt.plot(max_depth,loss_cv,'b--',label='Validation Loss')\n",
    "plt.title(\"Cross Validation Error for each alpha\")\n",
    "plt.xlabel(\"Alpha i's\")\n",
    "plt.ylabel(\"Error measure\")\n",
    "plt.show()\n"
   ]
  },
  {
   "cell_type": "code",
   "execution_count": 97,
   "metadata": {
    "ExecuteTime": {
     "end_time": "2019-04-19T11:12:46.526603Z",
     "start_time": "2019-04-19T11:01:21.663317Z"
    }
   },
   "outputs": [
    {
     "name": "stdout",
     "output_type": "stream",
     "text": [
      "[0]\ttrain-logloss:0.683377\ttest-logloss:0.683445\n",
      "Multiple eval metrics have been passed: 'test-logloss' will be used for early stopping.\n",
      "\n",
      "Will train until test-logloss hasn't improved in 20 rounds.\n",
      "[200]\ttrain-logloss:0.339308\ttest-logloss:0.348661\n",
      "[400]\ttrain-logloss:0.320276\ttest-logloss:0.334384\n",
      "[600]\ttrain-logloss:0.310679\ttest-logloss:0.328514\n",
      "[699]\ttrain-logloss:0.306842\ttest-logloss:0.326384\n",
      "The test log loss is: 0.32638401207265183\n"
     ]
    }
   ],
   "source": [
    "# Running on test set to get final score\n",
    "params['max_depth'] = 7\n",
    "\n",
    "d_tr = xgb.DMatrix(tfidf_tr, label=y_tr)\n",
    "d_te = xgb.DMatrix(tfidf_te, label=y_te)\n",
    "\n",
    "watchlist = [(d_tr, 'train'), (d_te, 'test')]\n",
    "\n",
    "bst = xgb.train(params, d_tr, 700, watchlist, early_stopping_rounds=20, verbose_eval=200)\n",
    "\n",
    "predict_y_te = bst.predict(d_te)\n",
    "print(\"The test log loss is:\",log_loss(y_te, predict_y_te, labels=clf.classes_, eps=1e-15))"
   ]
  },
  {
   "cell_type": "code",
   "execution_count": 98,
   "metadata": {
    "ExecuteTime": {
     "end_time": "2019-04-19T11:13:01.401004Z",
     "start_time": "2019-04-19T11:13:00.880421Z"
    }
   },
   "outputs": [
    {
     "name": "stdout",
     "output_type": "stream",
     "text": [
      "Total number of data points : 121287\n"
     ]
    },
    {
     "data": {
      "image/png": "[encoded data removed]",
      "text/plain": [
       "<Figure size 1440x288 with 6 Axes>"
      ]
     },
     "metadata": {},
     "output_type": "display_data"
    }
   ],
   "source": [
    "predicted_y =np.array(predict_y_te>0.5,dtype=int)\n",
    "print(\"Total number of data points :\", len(predicted_y))\n",
    "plot_confusion_matrix(y_te, predicted_y)"
   ]
  },
  {
   "cell_type": "code",
   "execution_count": null,
   "metadata": {},
   "outputs": [],
   "source": [
    "# Conclusion \n",
    "\n",
    "### linear models perform best when giveb high deminsion data\n",
    "\n",
    "### linear model like logsitic regression and linear svm where still observed being underfitted so, either create more feature\n",
    "# or, use more complex models like xgboost, rbf svm, Random forest but rbf_svm and RF is computationally expensive so we use xgboost\n",
    "\n",
    "### xgboost on w2v performed well than simple linear models\n",
    "\n",
    "### xgboost on tfidf perfermed well than xgboost on w2v cause it has high dim data\n"
   ]
  }
 ],
 "metadata": {
  "colab": {
   "name": "4.ML_models.ipynb",
   "provenance": [],
   "version": "0.3.2"
  },
  "hide_input": false,
  "kernelspec": {
   "display_name": "Python 3 (ipykernel)",
   "language": "python",
   "name": "python3"
  },
  "language_info": {
   "codemirror_mode": {
    "name": "ipython",
    "version": 3
   },
   "file_extension": ".py",
   "mimetype": "text/x-python",
   "name": "python",
   "nbconvert_exporter": "python",
   "pygments_lexer": "ipython3",
   "version": "3.9.7"
  },
  "latex_envs": {
   "LaTeX_envs_menu_present": true,
   "autoclose": false,
   "autocomplete": true,
   "bibliofile": "biblio.bib",
   "cite_by": "apalike",
   "current_citInitial": 1,
   "eqLabelWithNumbers": true,
   "eqNumInitial": 1,
   "hotkeys": {
    "equation": "Ctrl-E",
    "itemize": "Ctrl-I"
   },
   "labels_anchors": false,
   "latex_user_defs": false,
   "report_style_numbering": false,
   "user_envs_cfg": false
  },
  "toc": {
   "base_numbering": 1,
   "nav_menu": {},
   "number_sections": true,
   "sideBar": true,
   "skip_h1_title": false,
   "title_cell": "Table of Contents",
   "title_sidebar": "Contents",
   "toc_cell": false,
   "toc_position": {
    "height": "calc(100% - 180px)",
    "left": "10px",
    "top": "150px",
    "width": "302px"
   },
   "toc_section_display": true,
   "toc_window_display": false
  }
 },
 "nbformat": 4,
 "nbformat_minor": 1
}
