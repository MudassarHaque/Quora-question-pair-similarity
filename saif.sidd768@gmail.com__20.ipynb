{
 "cells": [
  {
   "cell_type": "code",
   "execution_count": 1,
   "metadata": {
    "ExecuteTime": {
     "end_time": "2019-04-21T07:10:48.356949Z",
     "start_time": "2019-04-21T07:10:40.389624Z"
    },
    "colab": {},
    "colab_type": "code",
    "id": "6VXPfRp-tARR",
    "outputId": "6c27acaf-2c6a-467f-fd7a-68efce98e30b"
   },
   "outputs": [],
   "source": [
    "import pandas as pd\n",
    "import matplotlib.pyplot as plt\n",
    "import re\n",
    "import time\n",
    "import warnings\n",
    "import sqlite3\n",
    "from sqlalchemy import create_engine # database connection\n",
    "import csv\n",
    "import os\n",
    "warnings.filterwarnings(\"ignore\")\n",
    "import datetime as dt\n",
    "import numpy as np\n",
    "from nltk.corpus import stopwords\n",
    "from sklearn.decomposition import TruncatedSVD\n",
    "from sklearn.preprocessing import normalize\n",
    "from sklearn.feature_extraction.text import CountVectorizer\n",
    "from sklearn.manifold import TSNE\n",
    "import seaborn as sns\n",
    "from sklearn.neighbors import KNeighborsClassifier\n",
    "from sklearn.metrics import confusion_matrix\n",
    "from sklearn.metrics.classification import accuracy_score, log_loss\n",
    "from sklearn.feature_extraction.text import TfidfVectorizer\n",
    "from collections import Counter\n",
    "from scipy.sparse import hstack\n",
    "from sklearn.multiclass import OneVsRestClassifier\n",
    "from sklearn.svm import SVC\n",
    "# from sklearn.cross_validation import StratifiedKFold \n",
    "from collections import Counter, defaultdict\n",
    "from sklearn.calibration import CalibratedClassifierCV\n",
    "from sklearn.naive_bayes import MultinomialNB\n",
    "from sklearn.naive_bayes import GaussianNB\n",
    "from sklearn.model_selection import train_test_split\n",
    "from sklearn.model_selection import GridSearchCV\n",
    "import math\n",
    "from sklearn.metrics import normalized_mutual_info_score\n",
    "from sklearn.ensemble import RandomForestClassifier\n",
    "\n",
    "\n",
    "\n",
    "from sklearn.model_selection import cross_val_score\n",
    "from sklearn.linear_model import SGDClassifier\n",
    "from mlxtend.classifier import StackingClassifier\n",
    "\n",
    "from sklearn import model_selection\n",
    "from sklearn.linear_model import LogisticRegression\n",
    "from sklearn.metrics import precision_recall_curve, auc, roc_curve"
   ]
  },
  {
   "cell_type": "markdown",
   "metadata": {
    "colab_type": "text",
    "id": "ZihvUPvHtARd"
   },
   "source": [
    "<h1>4. Machine Learning Models </h1>"
   ]
  },
  {
   "cell_type": "code",
   "execution_count": 2,
   "metadata": {
    "ExecuteTime": {
     "end_time": "2019-04-21T07:10:48.364926Z",
     "start_time": "2019-04-21T07:10:48.357944Z"
    },
    "colab": {},
    "colab_type": "code",
    "id": "XfxcPT6jtASg"
   },
   "outputs": [],
   "source": [
    "# This function plots the confusion matrices given y_i, y_i_hat.\n",
    "def plot_confusion_matrix(test_y, predict_y):\n",
    "    C = confusion_matrix(test_y, predict_y)\n",
    "    # C = 9,9 matrix, each cell (i,j) represents number of points of class i are predicted class j\n",
    "    \n",
    "    A =(((C.T)/(C.sum(axis=1))).T)\n",
    "    #divid each element of the confusion matrix with the sum of elements in that column\n",
    "    \n",
    "    # C = [[1, 2],\n",
    "    #     [3, 4]]\n",
    "    # C.T = [[1, 3],\n",
    "    #        [2, 4]]\n",
    "    # C.sum(axis = 1)  axis=0 corresonds to columns and axis=1 corresponds to rows in two diamensional array\n",
    "    # C.sum(axix =1) = [[3, 7]]\n",
    "    # ((C.T)/(C.sum(axis=1))) = [[1/3, 3/7]\n",
    "    #                           [2/3, 4/7]]\n",
    "\n",
    "    # ((C.T)/(C.sum(axis=1))).T = [[1/3, 2/3]\n",
    "    #                           [3/7, 4/7]]\n",
    "    # sum of row elements = 1\n",
    "    \n",
    "    B =(C/C.sum(axis=0))\n",
    "    #divid each element of the confusion matrix with the sum of elements in that row\n",
    "    # C = [[1, 2],\n",
    "    #     [3, 4]]\n",
    "    # C.sum(axis = 0)  axis=0 corresonds to columns and axis=1 corresponds to rows in two diamensional array\n",
    "    # C.sum(axix =0) = [[4, 6]]\n",
    "    # (C/C.sum(axis=0)) = [[1/4, 2/6],\n",
    "    #                      [3/4, 4/6]] \n",
    "    plt.figure(figsize=(20,4))\n",
    "    \n",
    "    labels = [1,2]\n",
    "    # representing A in heatmap format\n",
    "    cmap=sns.light_palette(\"blue\")\n",
    "    plt.subplot(1, 3, 1)\n",
    "    sns.heatmap(C, annot=True, cmap=cmap, fmt=\".3f\", xticklabels=labels, yticklabels=labels)\n",
    "    plt.xlabel('Predicted Class')\n",
    "    plt.ylabel('Original Class')\n",
    "    plt.title(\"Confusion matrix\")\n",
    "    \n",
    "    plt.subplot(1, 3, 2)\n",
    "    sns.heatmap(B, annot=True, cmap=cmap, fmt=\".3f\", xticklabels=labels, yticklabels=labels)\n",
    "    plt.xlabel('Predicted Class')\n",
    "    plt.ylabel('Original Class')\n",
    "    plt.title(\"Precision matrix\")\n",
    "    \n",
    "    plt.subplot(1, 3, 3)\n",
    "    # representing B in heatmap format\n",
    "    sns.heatmap(A, annot=True, cmap=cmap, fmt=\".3f\", xticklabels=labels, yticklabels=labels)\n",
    "    plt.xlabel('Predicted Class')\n",
    "    plt.ylabel('Original Class')\n",
    "    plt.title(\"Recall matrix\")\n",
    "    \n",
    "    plt.show()"
   ]
  },
  {
   "cell_type": "markdown",
   "metadata": {
    "colab_type": "text",
    "id": "WmiIgHOJtATF"
   },
   "source": [
    "<h1> 5. Assignments </h1>"
   ]
  },
  {
   "cell_type": "markdown",
   "metadata": {
    "colab_type": "text",
    "id": "CWS6JoB0tATF"
   },
   "source": [
    "1. Try out models (Logistic regression, Linear-SVM) with simple TF-IDF vectors instead of TD_IDF weighted word2Vec.\n",
    "2. Hyperparameter tune XgBoost using RandomSearch to reduce the log-loss.\n"
   ]
  },
  {
   "cell_type": "markdown",
   "metadata": {},
   "source": [
    "## (Logistic regression, Linear-SVM) with simple TF-IDF vectors "
   ]
  },
  {
   "cell_type": "code",
   "execution_count": 3,
   "metadata": {
    "ExecuteTime": {
     "end_time": "2019-04-21T07:10:49.244763Z",
     "start_time": "2019-04-21T07:10:48.365924Z"
    }
   },
   "outputs": [],
   "source": [
    "from sklearn.pipeline import Pipeline\n",
    "from sklearn.preprocessing import StandardScaler\n",
    "from scipy import sparse\n",
    "from sklearn.utils import class_weight\n",
    "import spacy\n",
    "from prettytable import PrettyTable as pt"
   ]
  },
  {
   "cell_type": "code",
   "execution_count": 4,
   "metadata": {
    "ExecuteTime": {
     "end_time": "2019-04-21T07:10:49.249748Z",
     "start_time": "2019-04-21T07:10:49.245759Z"
    }
   },
   "outputs": [],
   "source": [
    "#Creating conclusion table\n",
    "conclusion_table = pt()\n",
    "conclusion_table.field_names = [\"Model\", \"Hyper Parameter\", \"Log-Loss\"]"
   ]
  },
  {
   "cell_type": "markdown",
   "metadata": {},
   "source": [
    "### Retriveing dataset"
   ]
  },
  {
   "cell_type": "code",
   "execution_count": 66,
   "metadata": {
    "ExecuteTime": {
     "end_time": "2019-04-21T11:24:37.163288Z",
     "start_time": "2019-04-21T11:24:35.169620Z"
    }
   },
   "outputs": [
    {
     "data": {
      "text/plain": [
       "Index(['id', 'question1', 'question2', 'is_duplicate', 'cwc_min', 'cwc_max',\n",
       "       'csc_min', 'csc_max', 'ctc_min', 'ctc_max', 'last_word_eq',\n",
       "       'first_word_eq', 'abs_len_diff', 'mean_len', 'token_set_ratio',\n",
       "       'token_sort_ratio', 'fuzz_ratio', 'fuzz_partial_ratio',\n",
       "       'longest_substr_ratio'],\n",
       "      dtype='object')"
      ]
     },
     "execution_count": 66,
     "metadata": {},
     "output_type": "execute_result"
    }
   ],
   "source": [
    "# avoid decoding problems\n",
    "dfnlp = pd.read_csv(\"nlp_features_train.csv\",encoding='latin-1')\n",
    " \n",
    "# encode questions to unicode\n",
    "# https://stackoverflow.com/a/6812069\n",
    "# ----------------- python 2 ---------------------\n",
    "# df['question1'] = df['question1'].apply(lambda x: unicode(str(x),\"utf-8\"))\n",
    "# df['question2'] = df['question2'].apply(lambda x: unicode(str(x),\"utf-8\"))\n",
    "# ----------------- python 3 ---------------------\n",
    "dfnlp['question1'] = dfnlp['question1'].apply(lambda x: str(x))\n",
    "dfnlp['question2'] = dfnlp['question2'].apply(lambda x: str(x))\n",
    "dfnlp = dfnlp.drop(['qid1', 'qid2'], axis=1)\n",
    "dfnlp.columns"
   ]
  },
  {
   "cell_type": "code",
   "execution_count": 67,
   "metadata": {
    "ExecuteTime": {
     "end_time": "2019-04-21T11:24:38.298255Z",
     "start_time": "2019-04-21T11:24:37.164286Z"
    }
   },
   "outputs": [
    {
     "data": {
      "text/plain": [
       "Index(['id', 'freq_qid1', 'freq_qid2', 'q1len', 'q2len', 'q1_n_words',\n",
       "       'q2_n_words', 'word_Common', 'word_Total', 'word_share', 'freq_q1+q2',\n",
       "       'freq_q1-q2'],\n",
       "      dtype='object')"
      ]
     },
     "execution_count": 67,
     "metadata": {},
     "output_type": "execute_result"
    }
   ],
   "source": [
    "if os.path.isfile('df_fe_without_preprocessing_train.csv'):\n",
    "    dfppro = pd.read_csv(\"df_fe_without_preprocessing_train.csv\",encoding='latin-1')\n",
    "dfppro = dfppro.drop(['qid1', 'qid2', 'question1', 'question2', 'is_duplicate'], axis=1)\n",
    "dfppro.columns"
   ]
  },
  {
   "cell_type": "code",
   "execution_count": 68,
   "metadata": {
    "ExecuteTime": {
     "end_time": "2019-04-21T11:24:38.572559Z",
     "start_time": "2019-04-21T11:24:38.299250Z"
    }
   },
   "outputs": [
    {
     "data": {
      "text/html": [
       "<div>\n",
       "<style scoped>\n",
       "    .dataframe tbody tr th:only-of-type {\n",
       "        vertical-align: middle;\n",
       "    }\n",
       "\n",
       "    .dataframe tbody tr th {\n",
       "        vertical-align: top;\n",
       "    }\n",
       "\n",
       "    .dataframe thead th {\n",
       "        text-align: right;\n",
       "    }\n",
       "</style>\n",
       "<table border=\"1\" class=\"dataframe\">\n",
       "  <thead>\n",
       "    <tr style=\"text-align: right;\">\n",
       "      <th></th>\n",
       "      <th>id</th>\n",
       "      <th>question1</th>\n",
       "      <th>question2</th>\n",
       "      <th>is_duplicate</th>\n",
       "      <th>cwc_min</th>\n",
       "      <th>cwc_max</th>\n",
       "      <th>csc_min</th>\n",
       "      <th>csc_max</th>\n",
       "      <th>ctc_min</th>\n",
       "      <th>ctc_max</th>\n",
       "      <th>...</th>\n",
       "      <th>freq_qid2</th>\n",
       "      <th>q1len</th>\n",
       "      <th>q2len</th>\n",
       "      <th>q1_n_words</th>\n",
       "      <th>q2_n_words</th>\n",
       "      <th>word_Common</th>\n",
       "      <th>word_Total</th>\n",
       "      <th>word_share</th>\n",
       "      <th>freq_q1+q2</th>\n",
       "      <th>freq_q1-q2</th>\n",
       "    </tr>\n",
       "  </thead>\n",
       "  <tbody>\n",
       "    <tr>\n",
       "      <th>0</th>\n",
       "      <td>0</td>\n",
       "      <td>what is the step by step guide to invest in sh...</td>\n",
       "      <td>what is the step by step guide to invest in sh...</td>\n",
       "      <td>0</td>\n",
       "      <td>0.999980</td>\n",
       "      <td>0.833319</td>\n",
       "      <td>0.999983</td>\n",
       "      <td>0.999983</td>\n",
       "      <td>0.916659</td>\n",
       "      <td>0.785709</td>\n",
       "      <td>...</td>\n",
       "      <td>1</td>\n",
       "      <td>66</td>\n",
       "      <td>57</td>\n",
       "      <td>14</td>\n",
       "      <td>12</td>\n",
       "      <td>10.0</td>\n",
       "      <td>23.0</td>\n",
       "      <td>0.434783</td>\n",
       "      <td>2</td>\n",
       "      <td>0</td>\n",
       "    </tr>\n",
       "    <tr>\n",
       "      <th>1</th>\n",
       "      <td>1</td>\n",
       "      <td>what is the story of kohinoor  koh i noor  dia...</td>\n",
       "      <td>what would happen if the indian government sto...</td>\n",
       "      <td>0</td>\n",
       "      <td>0.799984</td>\n",
       "      <td>0.399996</td>\n",
       "      <td>0.749981</td>\n",
       "      <td>0.599988</td>\n",
       "      <td>0.699993</td>\n",
       "      <td>0.466664</td>\n",
       "      <td>...</td>\n",
       "      <td>1</td>\n",
       "      <td>51</td>\n",
       "      <td>88</td>\n",
       "      <td>8</td>\n",
       "      <td>13</td>\n",
       "      <td>4.0</td>\n",
       "      <td>20.0</td>\n",
       "      <td>0.200000</td>\n",
       "      <td>5</td>\n",
       "      <td>3</td>\n",
       "    </tr>\n",
       "    <tr>\n",
       "      <th>2</th>\n",
       "      <td>2</td>\n",
       "      <td>how can i increase the speed of my internet co...</td>\n",
       "      <td>how can internet speed be increased by hacking...</td>\n",
       "      <td>0</td>\n",
       "      <td>0.399992</td>\n",
       "      <td>0.333328</td>\n",
       "      <td>0.399992</td>\n",
       "      <td>0.249997</td>\n",
       "      <td>0.399996</td>\n",
       "      <td>0.285712</td>\n",
       "      <td>...</td>\n",
       "      <td>1</td>\n",
       "      <td>73</td>\n",
       "      <td>59</td>\n",
       "      <td>14</td>\n",
       "      <td>10</td>\n",
       "      <td>4.0</td>\n",
       "      <td>24.0</td>\n",
       "      <td>0.166667</td>\n",
       "      <td>2</td>\n",
       "      <td>0</td>\n",
       "    </tr>\n",
       "    <tr>\n",
       "      <th>3</th>\n",
       "      <td>3</td>\n",
       "      <td>why am i mentally very lonely  how can i solve...</td>\n",
       "      <td>find the remainder when  math 23  24   math  i...</td>\n",
       "      <td>0</td>\n",
       "      <td>0.000000</td>\n",
       "      <td>0.000000</td>\n",
       "      <td>0.000000</td>\n",
       "      <td>0.000000</td>\n",
       "      <td>0.000000</td>\n",
       "      <td>0.000000</td>\n",
       "      <td>...</td>\n",
       "      <td>1</td>\n",
       "      <td>50</td>\n",
       "      <td>65</td>\n",
       "      <td>11</td>\n",
       "      <td>9</td>\n",
       "      <td>0.0</td>\n",
       "      <td>19.0</td>\n",
       "      <td>0.000000</td>\n",
       "      <td>2</td>\n",
       "      <td>0</td>\n",
       "    </tr>\n",
       "    <tr>\n",
       "      <th>4</th>\n",
       "      <td>4</td>\n",
       "      <td>which one dissolve in water quikly sugar  salt...</td>\n",
       "      <td>which fish would survive in salt water</td>\n",
       "      <td>0</td>\n",
       "      <td>0.399992</td>\n",
       "      <td>0.199998</td>\n",
       "      <td>0.999950</td>\n",
       "      <td>0.666644</td>\n",
       "      <td>0.571420</td>\n",
       "      <td>0.307690</td>\n",
       "      <td>...</td>\n",
       "      <td>1</td>\n",
       "      <td>76</td>\n",
       "      <td>39</td>\n",
       "      <td>13</td>\n",
       "      <td>7</td>\n",
       "      <td>2.0</td>\n",
       "      <td>20.0</td>\n",
       "      <td>0.100000</td>\n",
       "      <td>4</td>\n",
       "      <td>2</td>\n",
       "    </tr>\n",
       "  </tbody>\n",
       "</table>\n",
       "<p>5 rows × 30 columns</p>\n",
       "</div>"
      ],
      "text/plain": [
       "   id                                          question1  \\\n",
       "0   0  what is the step by step guide to invest in sh...   \n",
       "1   1  what is the story of kohinoor  koh i noor  dia...   \n",
       "2   2  how can i increase the speed of my internet co...   \n",
       "3   3  why am i mentally very lonely  how can i solve...   \n",
       "4   4  which one dissolve in water quikly sugar  salt...   \n",
       "\n",
       "                                           question2  is_duplicate   cwc_min  \\\n",
       "0  what is the step by step guide to invest in sh...             0  0.999980   \n",
       "1  what would happen if the indian government sto...             0  0.799984   \n",
       "2  how can internet speed be increased by hacking...             0  0.399992   \n",
       "3  find the remainder when  math 23  24   math  i...             0  0.000000   \n",
       "4            which fish would survive in salt water              0  0.399992   \n",
       "\n",
       "    cwc_max   csc_min   csc_max   ctc_min   ctc_max     ...      freq_qid2  \\\n",
       "0  0.833319  0.999983  0.999983  0.916659  0.785709     ...              1   \n",
       "1  0.399996  0.749981  0.599988  0.699993  0.466664     ...              1   \n",
       "2  0.333328  0.399992  0.249997  0.399996  0.285712     ...              1   \n",
       "3  0.000000  0.000000  0.000000  0.000000  0.000000     ...              1   \n",
       "4  0.199998  0.999950  0.666644  0.571420  0.307690     ...              1   \n",
       "\n",
       "   q1len  q2len  q1_n_words  q2_n_words  word_Common  word_Total  word_share  \\\n",
       "0     66     57          14          12         10.0        23.0    0.434783   \n",
       "1     51     88           8          13          4.0        20.0    0.200000   \n",
       "2     73     59          14          10          4.0        24.0    0.166667   \n",
       "3     50     65          11           9          0.0        19.0    0.000000   \n",
       "4     76     39          13           7          2.0        20.0    0.100000   \n",
       "\n",
       "   freq_q1+q2  freq_q1-q2  \n",
       "0           2           0  \n",
       "1           5           3  \n",
       "2           2           0  \n",
       "3           2           0  \n",
       "4           4           2  \n",
       "\n",
       "[5 rows x 30 columns]"
      ]
     },
     "execution_count": 68,
     "metadata": {},
     "output_type": "execute_result"
    }
   ],
   "source": [
    "df = dfnlp.merge(dfppro, on='id',how='left')\n",
    "df.head()"
   ]
  },
  {
   "cell_type": "code",
   "execution_count": 69,
   "metadata": {
    "ExecuteTime": {
     "end_time": "2019-04-21T11:24:38.577506Z",
     "start_time": "2019-04-21T11:24:38.573518Z"
    }
   },
   "outputs": [
    {
     "data": {
      "text/plain": [
       "Index(['id', 'question1', 'question2', 'is_duplicate', 'cwc_min', 'cwc_max',\n",
       "       'csc_min', 'csc_max', 'ctc_min', 'ctc_max', 'last_word_eq',\n",
       "       'first_word_eq', 'abs_len_diff', 'mean_len', 'token_set_ratio',\n",
       "       'token_sort_ratio', 'fuzz_ratio', 'fuzz_partial_ratio',\n",
       "       'longest_substr_ratio', 'freq_qid1', 'freq_qid2', 'q1len', 'q2len',\n",
       "       'q1_n_words', 'q2_n_words', 'word_Common', 'word_Total', 'word_share',\n",
       "       'freq_q1+q2', 'freq_q1-q2'],\n",
       "      dtype='object')"
      ]
     },
     "execution_count": 69,
     "metadata": {},
     "output_type": "execute_result"
    }
   ],
   "source": [
    "df.columns"
   ]
  },
  {
   "cell_type": "code",
   "execution_count": 76,
   "metadata": {
    "ExecuteTime": {
     "end_time": "2019-04-21T11:27:20.968747Z",
     "start_time": "2019-04-21T11:27:20.854874Z"
    }
   },
   "outputs": [],
   "source": [
    "df = df.sample(n=50000, replace=False, random_state=1)"
   ]
  },
  {
   "cell_type": "markdown",
   "metadata": {},
   "source": [
    "### Splitting dataset and transforming in TF-IDF"
   ]
  },
  {
   "cell_type": "code",
   "execution_count": 41,
   "metadata": {
    "ExecuteTime": {
     "end_time": "2019-04-21T11:12:31.411000Z",
     "start_time": "2019-04-21T11:12:26.779384Z"
    }
   },
   "outputs": [],
   "source": [
    "def merge_features(q1, q2, rest_feat):\n",
    "    data_set = sparse.hstack((rest_feat.values, q1, q2))\n",
    "    return data_set\n",
    "\n",
    "y_true = df['is_duplicate']\n",
    "data = df.drop(['is_duplicate','id'], axis=1)\n",
    "\n",
    "# split in train, test and cv\n",
    "X, x_te , Y, y_te = train_test_split(data, y_true, stratify=y_true, test_size=0.3)\n",
    "\n",
    "x_tr, x_cv , y_tr, y_cv = train_test_split(X, Y, stratify=Y, test_size=0.3)\n",
    "\n",
    "#building pipeline for faster process\n",
    "tfidf_pipeline = Pipeline([\n",
    "    #Bow vectorizer\n",
    "    ('vect', TfidfVectorizer()),\n",
    "    #Standardizing the data\n",
    "    ('std', StandardScaler())\n",
    "])\n",
    "#Setting params for vectorizer and scalar transforms\n",
    "tfidf_pipeline.set_params(vect__ngram_range=((1,2)), vect__min_df=10, vect__max_features=5000, std__with_mean=False)\n",
    "\n",
    "#Tfidf transformation of both question pair for every row\n",
    "\n",
    "df_q1 = X['question1']\n",
    "df_q2 = X['question2']\n",
    "feat_X = X.drop(['question1', 'question2'], axis=1)\n",
    "\n",
    "\n",
    "#Training questions\n",
    "df_q1_tr = x_tr['question1']\n",
    "df_q2_tr = x_tr['question2']\n",
    "feat_tr = x_tr.drop(['question1', 'question2'], axis=1)\n",
    "\n",
    "#CV questions\n",
    "df_q1_cv = x_cv['question1']\n",
    "df_q2_cv = x_cv['question2']\n",
    "feat_cv = x_cv.drop(['question1', 'question2'], axis=1)\n",
    "\n",
    "#Testing questions\n",
    "df_q1_te = x_te['question1']\n",
    "df_q2_te = x_te['question2']\n",
    "feat_te = x_te.drop(['question1', 'question2'], axis=1)\n",
    "\n",
    "#only train data to fit the tf-idf\n",
    "questions = list(df_q1_tr) + list(df_q2_tr)\n",
    "\n",
    "#fit\n",
    "tfidf_pipeline.fit(list(questions))\n",
    "\n",
    "q1_feat = tfidf_pipeline.fit_transform(list(df_q1))\n",
    "q2_feat = tfidf_pipeline.fit_transform(list(df_q2))\n",
    "\n",
    "#Transforming train questions\n",
    "q1_feat_tr = tfidf_pipeline.transform(list(df_q1_tr))\n",
    "q2_feat_tr = tfidf_pipeline.transform(list(df_q2_tr))\n",
    "\n",
    "#Transforming CV questions\n",
    "q1_feat_cv = tfidf_pipeline.transform(list(df_q1_cv))\n",
    "q2_feat_cv = tfidf_pipeline.transform(list(df_q2_cv))\n",
    "\n",
    "#Transforming test questions\n",
    "q1_feat_te = tfidf_pipeline.transform(list(df_q1_te))\n",
    "q2_feat_te = tfidf_pipeline.transform(list(df_q2_te))"
   ]
  },
  {
   "cell_type": "code",
   "execution_count": 42,
   "metadata": {
    "ExecuteTime": {
     "end_time": "2019-04-21T11:12:31.699232Z",
     "start_time": "2019-04-21T11:12:31.411998Z"
    },
    "scrolled": true
   },
   "outputs": [
    {
     "name": "stdout",
     "output_type": "stream",
     "text": [
      "Train data set size (24500, 10026)\n",
      "Train data set values\n",
      " 0    15529\n",
      "1     8971\n",
      "Name: is_duplicate, dtype: int64\n",
      "Cross validation data set size (10500, 10026)\n",
      "Cross validation set values\n",
      " 0    6656\n",
      "1    3844\n",
      "Name: is_duplicate, dtype: int64\n",
      "Test data set size (15000, 10026)\n",
      "Test data set values\n",
      " 0    9508\n",
      "1    5492\n",
      "Name: is_duplicate, dtype: int64\n"
     ]
    }
   ],
   "source": [
    "# merging all features together\n",
    "\n",
    "tfidf_X = merge_features(q1_feat, q2_feat, feat_X).tocsr()\n",
    "tfidf_tr = merge_features(q1_feat_tr, q2_feat_tr, feat_tr).tocsr()\n",
    "tfidf_cv = merge_features(q1_feat_cv, q2_feat_cv, feat_cv).tocsr()\n",
    "tfidf_te = merge_features(q1_feat_te, q2_feat_te, feat_te).tocsr()\n",
    "\n",
    "\n",
    "print(\"Train data set size {}\".format(tfidf_tr.shape))\n",
    "print(\"Train data set values\\n\",y_tr.value_counts())\n",
    "print(\"Cross validation data set size {}\".format(tfidf_cv.shape))\n",
    "print(\"Cross validation set values\\n\",y_cv.value_counts())\n",
    "print(\"Test data set size {}\".format(tfidf_te.shape))\n",
    "print(\"Test data set values\\n\",y_te.value_counts())"
   ]
  },
  {
   "cell_type": "code",
   "execution_count": 117,
   "metadata": {
    "ExecuteTime": {
     "end_time": "2019-04-21T12:27:45.176638Z",
     "start_time": "2019-04-21T12:27:45.149678Z"
    }
   },
   "outputs": [
    {
     "data": {
      "text/plain": [
       "(18307, 30)"
      ]
     },
     "execution_count": 117,
     "metadata": {},
     "output_type": "execute_result"
    }
   ],
   "source": [
    "# qids = pd.Series(df['qid1'].tolist() + df['qid2'].tolist())\n",
    "# unique_qs = len(np.unique(qids))\n",
    "df_duplicate = df[df['is_duplicate'] == 1]\n",
    "questions_duplicate = list(df[df['is_duplicate'] == 1]['question1']) + list(df[df['is_duplicate'] == 1]['question2'])\n",
    "unq_duplicate_q = set(questions_duplicate)\n",
    "df_duplicate.shape"
   ]
  },
  {
   "cell_type": "code",
   "execution_count": 116,
   "metadata": {
    "ExecuteTime": {
     "end_time": "2019-04-21T12:27:45.148678Z",
     "start_time": "2019-04-21T12:26:30.560807Z"
    }
   },
   "outputs": [],
   "source": [
    "# matrix factorization\n",
    "questions = list(df['question1']) + list(df['question2'])\n",
    "unq_questions = list(set(questions))\n",
    "no_ques = len(unq_questions)\n",
    "# len(questions)\n",
    "matrix = sparse.csr_matrix((no_ques, no_ques), dtype=np.int8)\n",
    "\n",
    "for index, df_row in df_duplicate.iterrows():\n",
    "#     print(df_row['question1'] in unq_questions)\n",
    "#     break\n",
    "    row = unq_questions.index(df_row['question1'])\n",
    "    col = unq_questions.index(df_row['question2'])\n",
    "    matrix[row,col] = 1\n",
    "        \n",
    "# matrix[0,5] = 6\n",
    "# matrix.toarray()\n",
    "# matrix = np.zeros(shape=(len(set(questions)),len(set(questions))))"
   ]
  },
  {
   "cell_type": "code",
   "execution_count": 121,
   "metadata": {
    "ExecuteTime": {
     "end_time": "2019-04-21T12:30:59.270331Z",
     "start_time": "2019-04-21T12:30:59.266342Z"
    }
   },
   "outputs": [],
   "source": [
    "import sklearn\n",
    "model = sklearn.decomposition.NMF(n_components=2, init='random', random_state=0)\n"
   ]
  },
  {
   "cell_type": "code",
   "execution_count": 123,
   "metadata": {
    "ExecuteTime": {
     "end_time": "2019-04-21T12:31:04.167237Z",
     "start_time": "2019-04-21T12:31:03.475910Z"
    }
   },
   "outputs": [],
   "source": [
    "W = model.fit_transform(matrix)\n",
    "H = model.components_"
   ]
  },
  {
   "cell_type": "code",
   "execution_count": 130,
   "metadata": {
    "ExecuteTime": {
     "end_time": "2019-04-21T12:32:33.546909Z",
     "start_time": "2019-04-21T12:32:33.543919Z"
    }
   },
   "outputs": [
    {
     "data": {
      "text/plain": [
       "(2, 88994)"
      ]
     },
     "execution_count": 130,
     "metadata": {},
     "output_type": "execute_result"
    }
   ],
   "source": [
    "H.shape"
   ]
  },
  {
   "cell_type": "code",
   "execution_count": 45,
   "metadata": {
    "ExecuteTime": {
     "end_time": "2019-04-21T11:13:41.077670Z",
     "start_time": "2019-04-21T11:13:41.072638Z"
    }
   },
   "outputs": [
    {
     "data": {
      "text/plain": [
       "<50000x5000 sparse matrix of type '<class 'numpy.float64'>'\n",
       "\twith 613317 stored elements in Compressed Sparse Row format>"
      ]
     },
     "execution_count": 45,
     "metadata": {},
     "output_type": "execute_result"
    }
   ],
   "source": [
    "from sklearn.metrics.pairwise import cosine_similarity\n",
    "from sklearn.decomposition import TruncatedSVD\n",
    "data_q1"
   ]
  },
  {
   "cell_type": "markdown",
   "metadata": {
    "colab_type": "text",
    "id": "UStQJ5F_tASk"
   },
   "source": [
    "<h2> 4.4 Building a random model (Finding worst-case log-loss) </h2>"
   ]
  },
  {
   "cell_type": "code",
   "execution_count": 12,
   "metadata": {
    "ExecuteTime": {
     "end_time": "2019-04-21T07:11:33.922808Z",
     "start_time": "2019-04-21T07:11:32.706786Z"
    },
    "colab": {},
    "colab_type": "code",
    "id": "qwMDqcU7tASl",
    "outputId": "c1e90d53-25ec-445b-e33a-299538520e32"
   },
   "outputs": [
    {
     "name": "stdout",
     "output_type": "stream",
     "text": [
      "Log loss on Test Data using Random Model 0.8869302838012473\n"
     ]
    },
    {
     "data": {
      "image/png": "[encoded data removed]",
      "text/plain": [
       "<Figure size 1440x288 with 6 Axes>"
      ]
     },
     "metadata": {},
     "output_type": "display_data"
    }
   ],
   "source": [
    "# we need to generate 9 numbers and the sum of numbers should be 1\n",
    "# one solution is to genarate 9 numbers and divide each of the numbers by their sum\n",
    "# ref: https://stackoverflow.com/a/18662466/4084039\n",
    "# we create a output array that has exactly same size as the CV data\n",
    "test_len = y_te.shape[0]\n",
    "predicted_y = np.zeros((test_len,2))\n",
    "for i in range(test_len):\n",
    "    rand_probs = np.random.rand(1,2)\n",
    "    predicted_y[i] = ((rand_probs/sum(sum(rand_probs)))[0])\n",
    "print(\"Log loss on Test Data using Random Model\",log_loss(y_te, predicted_y, eps=1e-15))\n",
    "conclusion_table.add_row([\"Random-Model\", 'None', log_loss(y_te, predicted_y, eps=1e-15)])\n",
    "predicted_y =np.argmax(predicted_y, axis=1)\n",
    "plot_confusion_matrix(y_te, predicted_y)"
   ]
  },
  {
   "cell_type": "markdown",
   "metadata": {},
   "source": [
    "## Logistic Regression with hyperparameter tuning"
   ]
  },
  {
   "cell_type": "code",
   "execution_count": 13,
   "metadata": {
    "ExecuteTime": {
     "end_time": "2019-04-21T07:11:58.376297Z",
     "start_time": "2019-04-21T07:11:33.923805Z"
    }
   },
   "outputs": [
    {
     "name": "stdout",
     "output_type": "stream",
     "text": [
      "For values of alpha =  1e-10 The log loss is: 0.6585278256632965\n",
      "For values of alpha =  1e-09 The log loss is: 0.6585278256632965\n",
      "For values of alpha =  1e-08 The log loss is: 0.6585278256632965\n",
      "For values of alpha =  1e-07 The log loss is: 0.5466661797965934\n",
      "For values of alpha =  1e-06 The log loss is: 0.40862132202214596\n",
      "For values of alpha =  1e-05 The log loss is: 0.40867142652564326\n",
      "For values of alpha =  0.0001 The log loss is: 0.4121483262725153\n",
      "For values of alpha =  0.001 The log loss is: 0.4078489975142536\n",
      "For values of alpha =  0.01 The log loss is: 0.402672560942191\n",
      "For values of alpha =  0.1 The log loss is: 0.39982510645711417\n",
      "For values of alpha =  1 The log loss is: 0.4394559579644053\n",
      "For values of alpha =  10 The log loss is: 0.5287088639196005\n"
     ]
    },
    {
     "data": {
      "image/png": "[encoded data removed]",
      "text/plain": [
       "<Figure size 432x288 with 1 Axes>"
      ]
     },
     "metadata": {},
     "output_type": "display_data"
    },
    {
     "name": "stdout",
     "output_type": "stream",
     "text": [
      "For values of best alpha =  0.1 The train log loss is: 0.37569371670605445\n",
      "For values of best alpha =  0.1 The test log loss is: 0.39982510645711417\n",
      "Total number of data points : 121287\n"
     ]
    },
    {
     "data": {
      "image/png": "[encoded data removed]",
      "text/plain": [
       "<Figure size 1440x288 with 6 Axes>"
      ]
     },
     "metadata": {},
     "output_type": "display_data"
    }
   ],
   "source": [
    "alpha = [10 ** x for x in range(-10, 2)] # hyperparam for SGD classifier.\n",
    "log_error_array=[]\n",
    "for i in alpha:\n",
    "    clf = SGDClassifier(alpha=i, penalty='l2', loss='log', random_state=42)\n",
    "    clf.fit(tfidf_tr, y_tr)\n",
    "    sig_clf = CalibratedClassifierCV(clf, method=\"sigmoid\")\n",
    "    sig_clf.fit(tfidf_tr, y_tr)\n",
    "    predict_y = sig_clf.predict_proba(tfidf_te)\n",
    "    log_error_array.append(log_loss(y_te, predict_y, labels=clf.classes_, eps=1e-15))\n",
    "    print('For values of alpha = ', i, \"The log loss is:\",log_loss(y_te, predict_y, labels=clf.classes_, eps=1e-15))\n",
    "\n",
    "fig, ax = plt.subplots()\n",
    "ax.plot(alpha, log_error_array,c='g')\n",
    "for i, txt in enumerate(np.round(log_error_array,3)):\n",
    "    ax.annotate((alpha[i],np.round(txt,3)), (alpha[i],log_error_array[i]))\n",
    "plt.grid()\n",
    "plt.title(\"Cross Validation Error for each alpha\")\n",
    "plt.xlabel(\"Alpha i's\")\n",
    "plt.ylabel(\"Error measure\")\n",
    "plt.show()\n",
    "\n",
    "\n",
    "best_alpha = np.argmin(log_error_array)\n",
    "clf = SGDClassifier(alpha=alpha[best_alpha], penalty='l2', loss='log', random_state=42)\n",
    "clf.fit(tfidf_tr, y_tr)\n",
    "sig_clf = CalibratedClassifierCV(clf, method=\"sigmoid\")\n",
    "sig_clf.fit(tfidf_tr, y_tr)\n",
    "\n",
    "predict_y = sig_clf.predict_proba(tfidf_tr)\n",
    "print('For values of best alpha = ', alpha[best_alpha], \"The train log loss is:\",log_loss(y_tr, predict_y, labels=clf.classes_, eps=1e-15))\n",
    "predict_y = sig_clf.predict_proba(tfidf_te)\n",
    "print('For values of best alpha = ', alpha[best_alpha], \"The test log loss is:\",log_loss(y_te, predict_y, labels=clf.classes_, eps=1e-15))\n",
    "predicted_y =np.argmax(predict_y,axis=1)\n",
    "print(\"Total number of data points :\", len(predicted_y))\n",
    "plot_confusion_matrix(y_te, predicted_y)\n",
    "#Addiing to conclusion table\n",
    "conclusion_table.add_row([\"Logistic-regression\", alpha[best_alpha], log_loss(y_te, predict_y, labels=clf.classes_, eps=1e-15)])"
   ]
  },
  {
   "cell_type": "markdown",
   "metadata": {},
   "source": [
    "## Linear SVM with hyperparameter tuning"
   ]
  },
  {
   "cell_type": "code",
   "execution_count": 14,
   "metadata": {
    "ExecuteTime": {
     "end_time": "2019-04-21T07:12:29.693606Z",
     "start_time": "2019-04-21T07:11:58.377282Z"
    },
    "scrolled": false
   },
   "outputs": [
    {
     "name": "stdout",
     "output_type": "stream",
     "text": [
      "For values of alpha =  1e-10 The log loss is: 0.6585278256632965\n",
      "For values of alpha =  1e-09 The log loss is: 0.6585278256632965\n",
      "For values of alpha =  1e-08 The log loss is: 0.6585278256632965\n",
      "For values of alpha =  1e-07 The log loss is: 0.6585278256632965\n",
      "For values of alpha =  1e-06 The log loss is: 0.41686335449690787\n",
      "For values of alpha =  1e-05 The log loss is: 0.42360765746416246\n",
      "For values of alpha =  0.0001 The log loss is: 0.431793087516689\n",
      "For values of alpha =  0.001 The log loss is: 0.4655113650613371\n",
      "For values of alpha =  0.01 The log loss is: 0.539183722158609\n",
      "For values of alpha =  0.1 The log loss is: 0.6533690837316557\n",
      "For values of alpha =  1 The log loss is: 0.6582621808081434\n",
      "For values of alpha =  10 The log loss is: 0.6510147291799161\n"
     ]
    },
    {
     "data": {
      "image/png": "[encoded data removed]",
      "text/plain": [
       "<Figure size 432x288 with 1 Axes>"
      ]
     },
     "metadata": {},
     "output_type": "display_data"
    },
    {
     "name": "stdout",
     "output_type": "stream",
     "text": [
      "For values of best alpha =  1e-06 The train log loss is: 0.3783858379628486\n",
      "For values of best alpha =  1e-06 The test log loss is: 0.41686335449690787\n",
      "Total number of data points : 121287\n"
     ]
    },
    {
     "data": {
      "image/png": "[encoded data removed]",
      "text/plain": [
       "<Figure size 1440x288 with 6 Axes>"
      ]
     },
     "metadata": {},
     "output_type": "display_data"
    }
   ],
   "source": [
    "alpha = [10 ** x for x in range(-10, 2)] # hyperparam for SGD classifier.\n",
    "\n",
    "# read more about SGDClassifier() at http://scikit-learn.org/stable/modules/generated/sklearn.linear_model.SGDClassifier.html\n",
    "# ------------------------------\n",
    "# default parameters\n",
    "# SGDClassifier(loss=’hinge’, penalty=’l2’, alpha=0.0001, l1_ratio=0.15, fit_intercept=True, max_iter=None, tol=None, \n",
    "# shuffle=True, verbose=0, epsilon=0.1, n_jobs=1, random_state=None, learning_rate=’optimal’, eta0=0.0, power_t=0.5, \n",
    "# class_weight=None, warm_start=False, average=False, n_iter=None)\n",
    "\n",
    "# some of methods\n",
    "# fit(X, y[, coef_init, intercept_init, …])\tFit linear model with Stochastic Gradient Descent.\n",
    "# predict(X)\tPredict class labels for samples in X.\n",
    "\n",
    "#-------------------------------\n",
    "# video link: \n",
    "#------------------------------\n",
    "\n",
    "\n",
    "log_error_array=[]\n",
    "for i in alpha:\n",
    "    clf = SGDClassifier(alpha=i, penalty='l1', loss='hinge', random_state=42)\n",
    "    clf.fit(tfidf_tr, y_tr)\n",
    "    sig_clf = CalibratedClassifierCV(clf, method=\"sigmoid\")\n",
    "    sig_clf.fit(tfidf_tr, y_tr)\n",
    "    predict_y = sig_clf.predict_proba(tfidf_te)\n",
    "    log_error_array.append(log_loss(y_te, predict_y, labels=clf.classes_, eps=1e-15))\n",
    "    print('For values of alpha = ', i, \"The log loss is:\",log_loss(y_te, predict_y, labels=clf.classes_, eps=1e-15))\n",
    "\n",
    "fig, ax = plt.subplots()\n",
    "ax.plot(alpha, log_error_array,c='g')\n",
    "for i, txt in enumerate(np.round(log_error_array,3)):\n",
    "    ax.annotate((alpha[i],np.round(txt,3)), (alpha[i],log_error_array[i]))\n",
    "plt.grid()\n",
    "plt.title(\"Cross Validation Error for each alpha\")\n",
    "plt.xlabel(\"Alpha i's\")\n",
    "plt.ylabel(\"Error measure\")\n",
    "plt.show()\n",
    "\n",
    "\n",
    "best_alpha = np.argmin(log_error_array)\n",
    "clf = SGDClassifier(alpha=alpha[best_alpha], penalty='l1', loss='hinge', random_state=42)\n",
    "clf.fit(tfidf_tr, y_tr)\n",
    "sig_clf = CalibratedClassifierCV(clf, method=\"sigmoid\")\n",
    "sig_clf.fit(tfidf_tr, y_tr)\n",
    "\n",
    "predict_y = sig_clf.predict_proba(tfidf_tr)\n",
    "print('For values of best alpha = ', alpha[best_alpha], \"The train log loss is:\",log_loss(y_tr, predict_y, labels=clf.classes_, eps=1e-15))\n",
    "predict_y = sig_clf.predict_proba(tfidf_te)\n",
    "print('For values of best alpha = ', alpha[best_alpha], \"The test log loss is:\",log_loss(y_te, predict_y, labels=clf.classes_, eps=1e-15))\n",
    "predicted_y =np.argmax(predict_y,axis=1)\n",
    "print(\"Total number of data points :\", len(predicted_y))\n",
    "plot_confusion_matrix(y_te, predicted_y)\n",
    "conclusion_table.add_row([\"Linear-SVM\", alpha[best_alpha], log_loss(y_te, predict_y, labels=clf.classes_, eps=1e-15)])"
   ]
  },
  {
   "cell_type": "markdown",
   "metadata": {},
   "source": [
    "### Words2vec for xgboost"
   ]
  },
  {
   "cell_type": "code",
   "execution_count": 15,
   "metadata": {
    "ExecuteTime": {
     "end_time": "2019-04-21T07:12:29.698411Z",
     "start_time": "2019-04-21T07:12:29.694422Z"
    }
   },
   "outputs": [],
   "source": [
    "# from tqdm import tqdm_notebook as tqdm\n",
    "# word2tfidf = dict(zip(tfidf_pipeline.named_steps['vect'].get_feature_names(), tfidf_pipeline.named_steps['vect'].idf_))\n",
    "# nlp = spacy.load('en_core_web_sm')\n",
    "\n",
    "# def word2vec(questions_list, word2tfidf):\n",
    "#     vecs1 = []\n",
    "#     # nlp(x_tr['question1'][:10].values[0])\n",
    "#     # https://github.com/noamraph/tqdm\n",
    "#     # tqdm is used to print the progress bar\n",
    "#     for qu1 in tqdm(questions_list):\n",
    "#         doc1 = nlp(qu1)\n",
    "#         # 384 is the number of dimensions of vectors \n",
    "#         mean_vec1 = np.zeros([doc1.tensor.shape[0],doc1.tensor.shape[1]])\n",
    "#         for word1 in doc1:\n",
    "#             # word2vec\n",
    "#             vec1 = word1.vector\n",
    "\n",
    "#             # fetch df score\n",
    "#             try:\n",
    "#                 idf = word2tfidf[str(word1)]\n",
    "#             except:\n",
    "#                 idf = 0\n",
    "#             # compute final vec\n",
    "#             mean_vec1 += vec1 * idf\n",
    "#         mean_vec1 = mean_vec1.mean(axis=0)\n",
    "#         vecs1.append(mean_vec1)\n",
    "#     return np.array(vecs1)"
   ]
  },
  {
   "cell_type": "code",
   "execution_count": 16,
   "metadata": {
    "ExecuteTime": {
     "end_time": "2019-04-21T07:12:29.707387Z",
     "start_time": "2019-04-21T07:12:29.699408Z"
    }
   },
   "outputs": [],
   "source": [
    "# #Word 2vec\n",
    "# w2v_tr = word2vec(list(x_tr['question1']), word2tfidf)\n",
    "# w2v_cv = word2vec(list(x_cv['question1']), word2tfidf)\n",
    "# w2v_te = word2vec(list(x_te['question1']), word2tfidf)"
   ]
  },
  {
   "cell_type": "code",
   "execution_count": 17,
   "metadata": {
    "ExecuteTime": {
     "end_time": "2019-04-21T07:12:29.713403Z",
     "start_time": "2019-04-21T07:12:29.708384Z"
    }
   },
   "outputs": [],
   "source": [
    "# print(\"Train w2v size {}\".format(w2v_tr.shape))\n",
    "# print(\"Cross validation w2v size {}\".format(w2v_cv.shape))\n",
    "# print(\"Test w2v size {}\".format(w2v_te.shape))"
   ]
  },
  {
   "cell_type": "code",
   "execution_count": 18,
   "metadata": {
    "ExecuteTime": {
     "end_time": "2019-04-21T07:12:29.724449Z",
     "start_time": "2019-04-21T07:12:29.714368Z"
    }
   },
   "outputs": [],
   "source": [
    "# # merging all features together\n",
    "\n",
    "# w2v_tr = sparse.hstack((feat_tr, w2v_tr)).tocsr()\n",
    "# w2v_cv = sparse.hstack((feat_cv, w2v_cv)).tocsr()\n",
    "# w2v_te = sparse.hstack((feat_te, w2v_te)).tocsr()\n",
    "\n",
    "\n",
    "# print(\"Train data set size {}\".format(w2v_tr.shape))\n",
    "# print(\"Train data set values\\n\",y_tr.value_counts())\n",
    "# print(\"Cross validation data set size {}\".format(w2v_cv.shape))\n",
    "# print(\"Cross validation set values\\n\",y_cv.value_counts())\n",
    "# print(\"Test data set size {}\".format(w2v_te.shape))\n",
    "# print(\"Test data set values\\n\",y_te.value_counts())"
   ]
  },
  {
   "cell_type": "markdown",
   "metadata": {},
   "source": [
    "## XGBoost with hyper paramter tuning"
   ]
  },
  {
   "cell_type": "code",
   "execution_count": 19,
   "metadata": {
    "ExecuteTime": {
     "end_time": "2019-04-21T08:11:57.411043Z",
     "start_time": "2019-04-21T07:12:29.725371Z"
    }
   },
   "outputs": [
    {
     "name": "stdout",
     "output_type": "stream",
     "text": [
      "TRAINING ON DEPTH 2\n",
      "[0]\ttrain-logloss:0.686786\tvalidation-logloss:0.686749\n",
      "Multiple eval metrics have been passed: 'validation-logloss' will be used for early stopping.\n",
      "\n",
      "Will train until validation-logloss hasn't improved in 20 rounds.\n",
      "[200]\ttrain-logloss:0.424402\tvalidation-logloss:0.423075\n",
      "[400]\ttrain-logloss:0.391608\tvalidation-logloss:0.390561\n",
      "[600]\ttrain-logloss:0.379189\tvalidation-logloss:0.378205\n",
      "[699]\ttrain-logloss:0.375036\tvalidation-logloss:0.37414\n",
      "The CV log loss is: 0.37413953548975604\n",
      "TRAINING ON DEPTH 3\n",
      "[0]\ttrain-logloss:0.685341\tvalidation-logloss:0.685312\n",
      "Multiple eval metrics have been passed: 'validation-logloss' will be used for early stopping.\n",
      "\n",
      "Will train until validation-logloss hasn't improved in 20 rounds.\n",
      "[200]\ttrain-logloss:0.390298\tvalidation-logloss:0.389014\n",
      "[400]\ttrain-logloss:0.368215\tvalidation-logloss:0.367391\n",
      "[600]\ttrain-logloss:0.358762\tvalidation-logloss:0.358457\n",
      "[699]\ttrain-logloss:0.35521\tvalidation-logloss:0.355191\n",
      "The CV log loss is: 0.3551912523205386\n",
      "TRAINING ON DEPTH 4\n",
      "[0]\ttrain-logloss:0.684655\tvalidation-logloss:0.684633\n",
      "Multiple eval metrics have been passed: 'validation-logloss' will be used for early stopping.\n",
      "\n",
      "Will train until validation-logloss hasn't improved in 20 rounds.\n",
      "[200]\ttrain-logloss:0.375278\tvalidation-logloss:0.374687\n",
      "[400]\ttrain-logloss:0.353861\tvalidation-logloss:0.354531\n",
      "[600]\ttrain-logloss:0.345097\tvalidation-logloss:0.346968\n",
      "[699]\ttrain-logloss:0.341769\tvalidation-logloss:0.34434\n",
      "The CV log loss is: 0.34433990511770685\n",
      "TRAINING ON DEPTH 5\n",
      "[0]\ttrain-logloss:0.68414\tvalidation-logloss:0.684115\n",
      "Multiple eval metrics have been passed: 'validation-logloss' will be used for early stopping.\n",
      "\n",
      "Will train until validation-logloss hasn't improved in 20 rounds.\n",
      "[200]\ttrain-logloss:0.362851\tvalidation-logloss:0.363521\n",
      "[400]\ttrain-logloss:0.342691\tvalidation-logloss:0.345587\n",
      "[600]\ttrain-logloss:0.333733\tvalidation-logloss:0.338781\n",
      "[699]\ttrain-logloss:0.33023\tvalidation-logloss:0.336268\n",
      "The CV log loss is: 0.33626772851460796\n",
      "TRAINING ON DEPTH 6\n",
      "[0]\ttrain-logloss:0.683711\tvalidation-logloss:0.683692\n",
      "Multiple eval metrics have been passed: 'validation-logloss' will be used for early stopping.\n",
      "\n",
      "Will train until validation-logloss hasn't improved in 20 rounds.\n",
      "[200]\ttrain-logloss:0.351949\tvalidation-logloss:0.35489\n",
      "[400]\ttrain-logloss:0.333131\tvalidation-logloss:0.339562\n",
      "[600]\ttrain-logloss:0.323617\tvalidation-logloss:0.332937\n",
      "[699]\ttrain-logloss:0.319944\tvalidation-logloss:0.330533\n",
      "The CV log loss is: 0.33053278241756046\n",
      "TRAINING ON DEPTH 7\n",
      "[0]\ttrain-logloss:0.683379\tvalidation-logloss:0.683392\n",
      "Multiple eval metrics have been passed: 'validation-logloss' will be used for early stopping.\n",
      "\n",
      "Will train until validation-logloss hasn't improved in 20 rounds.\n",
      "[200]\ttrain-logloss:0.340915\tvalidation-logloss:0.347496\n",
      "[400]\ttrain-logloss:0.322361\tvalidation-logloss:0.333808\n",
      "[600]\ttrain-logloss:0.312074\tvalidation-logloss:0.327335\n",
      "[699]\ttrain-logloss:0.308368\tvalidation-logloss:0.325315\n",
      "The CV log loss is: 0.325314523640603\n",
      "TRAINING ON DEPTH 8\n",
      "[0]\ttrain-logloss:0.683087\tvalidation-logloss:0.683153\n",
      "Multiple eval metrics have been passed: 'validation-logloss' will be used for early stopping.\n",
      "\n",
      "Will train until validation-logloss hasn't improved in 20 rounds.\n",
      "[200]\ttrain-logloss:0.329997\tvalidation-logloss:0.341832\n",
      "[400]\ttrain-logloss:0.310518\tvalidation-logloss:0.328794\n",
      "[600]\ttrain-logloss:0.300566\tvalidation-logloss:0.323394\n",
      "[699]\ttrain-logloss:0.296576\tvalidation-logloss:0.321418\n",
      "The CV log loss is: 0.32141757129878723\n",
      "TRAINING ON DEPTH 9\n",
      "[0]\ttrain-logloss:0.682828\tvalidation-logloss:0.682941\n",
      "Multiple eval metrics have been passed: 'validation-logloss' will be used for early stopping.\n",
      "\n",
      "Will train until validation-logloss hasn't improved in 20 rounds.\n",
      "[200]\ttrain-logloss:0.318433\tvalidation-logloss:0.336771\n",
      "[400]\ttrain-logloss:0.298584\tvalidation-logloss:0.324565\n",
      "[600]\ttrain-logloss:0.28836\tvalidation-logloss:0.319553\n",
      "[699]\ttrain-logloss:0.284351\tvalidation-logloss:0.317723\n",
      "The CV log loss is: 0.3177233973176662\n"
     ]
    }
   ],
   "source": [
    "import xgboost as xgb\n",
    "params = {}\n",
    "params['objective'] = 'binary:logistic'\n",
    "params['eval_metric'] = 'logloss'\n",
    "params['eta'] = 0.02\n",
    "max_depth  = [1*x for x in range(2, 10)]\n",
    "loss_cv = []\n",
    "loss_tr = []\n",
    "for t_depth in max_depth:\n",
    "    params['max_depth'] = t_depth\n",
    "    print(\"TRAINING ON DEPTH\",t_depth)\n",
    "    d_tr = xgb.DMatrix(tfidf_tr, label=y_tr)\n",
    "    d_cv = xgb.DMatrix(tfidf_cv, label=y_cv)\n",
    "\n",
    "    watchlist = [(d_tr, 'train'), (d_cv, 'validation')]\n",
    "\n",
    "    bst = xgb.train(params, d_tr, 700, watchlist, early_stopping_rounds=20, verbose_eval=200)\n",
    "\n",
    "#     xgdmat = xgb.DMatrix(w2v_tr,y_tr)\n",
    "    predict_y_tr = bst.predict(d_tr)\n",
    "    predict_y_cv = bst.predict(d_cv)\n",
    "    print(\"The CV log loss is:\",log_loss(y_cv, predict_y_cv, labels=clf.classes_, eps=1e-15))\n",
    "    loss_tr.append(bst.eval_set(watchlist).split()[1].split(':')[1]) \n",
    "    loss_cv.append(bst.eval_set(watchlist).split()[2].split(':')[1])"
   ]
  },
  {
   "cell_type": "code",
   "execution_count": 26,
   "metadata": {
    "ExecuteTime": {
     "end_time": "2019-04-21T08:30:17.070504Z",
     "start_time": "2019-04-21T08:30:17.066514Z"
    }
   },
   "outputs": [
    {
     "data": {
      "text/plain": [
       "['0.374140',\n",
       " '0.355191',\n",
       " '0.344340',\n",
       " '0.336268',\n",
       " '0.330533',\n",
       " '0.325315',\n",
       " '0.321418',\n",
       " '0.317723']"
      ]
     },
     "execution_count": 26,
     "metadata": {},
     "output_type": "execute_result"
    }
   ],
   "source": [
    "loss_cv"
   ]
  },
  {
   "cell_type": "code",
   "execution_count": 37,
   "metadata": {
    "ExecuteTime": {
     "end_time": "2019-04-21T08:33:13.892814Z",
     "start_time": "2019-04-21T08:33:13.760156Z"
    }
   },
   "outputs": [
    {
     "data": {
      "image/png": "[encoded data removed]",
      "text/plain": [
       "<Figure size 576x432 with 1 Axes>"
      ]
     },
     "metadata": {},
     "output_type": "display_data"
    }
   ],
   "source": [
    "plt.close\n",
    "sns.set_style(\"darkgrid\")\n",
    "plt.figure(figsize=(8,6))\n",
    "plt.plot(max_depth,loss_tr,'r--',label='Train Loss')\n",
    "plt.plot(max_depth,loss_cv,'b--',label='Validation Loss')\n",
    "plt.title(\"Cross Validation Error for each alpha\")\n",
    "plt.xlabel(\"Alpha i's\")\n",
    "plt.ylabel(\"Error measure\")\n",
    "plt.legend()\n",
    "plt.show()\n"
   ]
  },
  {
   "cell_type": "code",
   "execution_count": 21,
   "metadata": {
    "ExecuteTime": {
     "end_time": "2019-04-21T08:21:19.036339Z",
     "start_time": "2019-04-21T08:11:57.567625Z"
    }
   },
   "outputs": [
    {
     "name": "stdout",
     "output_type": "stream",
     "text": [
      "[0]\ttrain-logloss:0.683379\ttest-logloss:0.683407\n",
      "Multiple eval metrics have been passed: 'test-logloss' will be used for early stopping.\n",
      "\n",
      "Will train until test-logloss hasn't improved in 20 rounds.\n",
      "[200]\ttrain-logloss:0.340915\ttest-logloss:0.34893\n",
      "[400]\ttrain-logloss:0.322361\ttest-logloss:0.335362\n",
      "[600]\ttrain-logloss:0.312074\ttest-logloss:0.329038\n",
      "[699]\ttrain-logloss:0.308368\ttest-logloss:0.327024\n",
      "The test log loss is: 0.3270234856736916\n"
     ]
    }
   ],
   "source": [
    "# Running on test set to get final score\n",
    "params['max_depth'] = 7\n",
    "\n",
    "d_tr = xgb.DMatrix(tfidf_tr, label=y_tr)\n",
    "d_te = xgb.DMatrix(tfidf_te, label=y_te)\n",
    "\n",
    "watchlist = [(d_tr, 'train'), (d_te, 'test')]\n",
    "\n",
    "bst = xgb.train(params, d_tr, 700, watchlist, early_stopping_rounds=20, verbose_eval=200)\n",
    "\n",
    "predict_y_te = bst.predict(d_te)\n",
    "print(\"The test log loss is:\",log_loss(y_te, predict_y_te, labels=clf.classes_, eps=1e-15))"
   ]
  },
  {
   "cell_type": "code",
   "execution_count": 22,
   "metadata": {
    "ExecuteTime": {
     "end_time": "2019-04-21T08:21:19.387434Z",
     "start_time": "2019-04-21T08:21:19.038333Z"
    },
    "scrolled": false
   },
   "outputs": [
    {
     "name": "stdout",
     "output_type": "stream",
     "text": [
      "Total number of data points : 121287\n"
     ]
    },
    {
     "data": {
      "image/png": "[encoded data removed]",
      "text/plain": [
       "<Figure size 1440x288 with 6 Axes>"
      ]
     },
     "metadata": {},
     "output_type": "display_data"
    }
   ],
   "source": [
    "predicted_y =np.array(predict_y_te>0.5,dtype=int)\n",
    "print(\"Total number of data points :\", len(predicted_y))\n",
    "plot_confusion_matrix(y_te, predicted_y)\n",
    "conclusion_table.add_row([\"XGBoost\", 7, log_loss(y_te, predict_y_te, labels=clf.classes_, eps=1e-15)])"
   ]
  },
  {
   "cell_type": "markdown",
   "metadata": {},
   "source": [
    "### Conclusion"
   ]
  },
  {
   "cell_type": "code",
   "execution_count": 23,
   "metadata": {
    "ExecuteTime": {
     "end_time": "2019-04-21T08:21:19.392387Z",
     "start_time": "2019-04-21T08:21:19.388397Z"
    }
   },
   "outputs": [
    {
     "name": "stdout",
     "output_type": "stream",
     "text": [
      "+---------------------+-----------------+---------------------+\n",
      "|        Model        | Hyper Parameter |       Log-Loss      |\n",
      "+---------------------+-----------------+---------------------+\n",
      "|     Random-Model    |       None      |  0.8869302838012473 |\n",
      "| Logistic-regression |       0.1       | 0.39982510645711417 |\n",
      "|      Linear-SVM     |      1e-06      | 0.41686335449690787 |\n",
      "|       XGBoost       |        7        |  0.3270234856736916 |\n",
      "+---------------------+-----------------+---------------------+\n"
     ]
    }
   ],
   "source": [
    "#conclusion\n",
    "print(conclusion_table)"
   ]
  },
  {
   "cell_type": "code",
   "execution_count": 24,
   "metadata": {
    "ExecuteTime": {
     "end_time": "2019-04-21T08:21:19.400365Z",
     "start_time": "2019-04-21T08:21:19.393384Z"
    }
   },
   "outputs": [],
   "source": [
    "# Conclusion \n",
    "\n",
    "### linear models perform best when giveb high deminsion data\n",
    "\n",
    "### linear model like logsitic regression and linear svm where still observed being underfitted so, either create more feature\n",
    "# or, use more complex models like xgboost, rbf svm, Random forest but rbf_svm and RF is computationally expensive so we use xgboost\n",
    "\n",
    "### xgboost on w2v performed well than simple linear models\n",
    "\n",
    "### xgboost on tfidf perfermed well than xgboost on w2v cause it has high dim data\n"
   ]
  }
 ],
 "metadata": {
  "colab": {
   "name": "4.ML_models.ipynb",
   "provenance": [],
   "version": "0.3.2"
  },
  "hide_input": false,
  "kernelspec": {
   "display_name": "Python 3 (ipykernel)",
   "language": "python",
   "name": "python3"
  },
  "language_info": {
   "codemirror_mode": {
    "name": "ipython",
    "version": 3
   },
   "file_extension": ".py",
   "mimetype": "text/x-python",
   "name": "python",
   "nbconvert_exporter": "python",
   "pygments_lexer": "ipython3",
   "version": "3.9.7"
  },
  "latex_envs": {
   "LaTeX_envs_menu_present": true,
   "autoclose": false,
   "autocomplete": true,
   "bibliofile": "biblio.bib",
   "cite_by": "apalike",
   "current_citInitial": 1,
   "eqLabelWithNumbers": true,
   "eqNumInitial": 1,
   "hotkeys": {
    "equation": "Ctrl-E",
    "itemize": "Ctrl-I"
   },
   "labels_anchors": false,
   "latex_user_defs": false,
   "report_style_numbering": false,
   "user_envs_cfg": false
  },
  "toc": {
   "base_numbering": 1,
   "nav_menu": {},
   "number_sections": true,
   "sideBar": true,
   "skip_h1_title": false,
   "title_cell": "Table of Contents",
   "title_sidebar": "Contents",
   "toc_cell": false,
   "toc_position": {
    "height": "calc(100% - 180px)",
    "left": "10px",
    "top": "150px",
    "width": "302px"
   },
   "toc_section_display": true,
   "toc_window_display": false
  }
 },
 "nbformat": 4,
 "nbformat_minor": 1
}
